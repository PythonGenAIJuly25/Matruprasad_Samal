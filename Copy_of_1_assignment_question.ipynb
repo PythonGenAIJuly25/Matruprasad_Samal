{
  "cells": [
    {
      "cell_type": "markdown",
      "metadata": {
        "id": "jsGsIvTaccpB"
      },
      "source": [
        "# Python Basics\n",
        "## Topics Covered:\n",
        "- Syntax and Semantics\n",
        "- Variables and Data Types\n",
        "- Basic Operators (Arithmetic, Comparison, Logical)\n"
      ]
    },
    {
      "cell_type": "markdown",
      "metadata": {
        "id": "2KIVR_GYccpG"
      },
      "source": [
        "## 1. Syntax and Semantics\n",
        "\n",
        "**Question 1:** Write a Python program to print \"Hello, World!\"."
      ]
    },
    {
      "cell_type": "code",
      "execution_count": null,
      "metadata": {
        "id": "AxLbrDNcccpH",
        "outputId": "70c5612f-e757-4791-aaff-cea6b32ac763",
        "colab": {
          "base_uri": "https://localhost:8080/"
        }
      },
      "outputs": [
        {
          "output_type": "stream",
          "name": "stdout",
          "text": [
            "Helllo World\n"
          ]
        }
      ],
      "source": [
        "# Your code here\n",
        "print(\"Helllo World\")"
      ]
    },
    {
      "cell_type": "markdown",
      "metadata": {
        "id": "wVQFR7kRccpJ"
      },
      "source": [
        "**Question 2:** Write a Python program that takes a user input and prints it."
      ]
    },
    {
      "cell_type": "code",
      "execution_count": null,
      "metadata": {
        "id": "tEPi5sTDccpK",
        "outputId": "19e73ca9-e608-497f-89c8-795bbb4e598a",
        "colab": {
          "base_uri": "https://localhost:8080/"
        }
      },
      "outputs": [
        {
          "output_type": "stream",
          "name": "stdout",
          "text": [
            "Enter your name: Matruprasad Samal\n",
            "Matruprasad Samal\n"
          ]
        }
      ],
      "source": [
        "# Your code here\n",
        "name = input(\"Enter your name: \")\n",
        "print(name)"
      ]
    },
    {
      "cell_type": "markdown",
      "metadata": {
        "id": "eTytVQQ5ccpK"
      },
      "source": [
        "**Question 3:** Write a Python program to check if a number is positive, negative, or zero."
      ]
    },
    {
      "cell_type": "code",
      "execution_count": null,
      "metadata": {
        "id": "VsEqns8dccpL",
        "outputId": "24525a6a-9e53-4d95-851e-de6f9e402850",
        "colab": {
          "base_uri": "https://localhost:8080/"
        }
      },
      "outputs": [
        {
          "output_type": "stream",
          "name": "stdout",
          "text": [
            "Enter a number : -1\n",
            "Negative Number\n"
          ]
        }
      ],
      "source": [
        "# Your code here\n",
        "num = int(input(\"Enter a number : \"))\n",
        "\n",
        "if num >0:\n",
        "  print(\"Positive Number\")\n",
        "elif num < 0:\n",
        "  print(\"Negative Number\")\n",
        "\n",
        "else:\n",
        "  print(\"The number is Zero\")\n",
        "\n"
      ]
    },
    {
      "cell_type": "markdown",
      "metadata": {
        "id": "XkEVVnL3ccpL"
      },
      "source": [
        "**Question 4:** Write a Python program to find the largest of three numbers."
      ]
    },
    {
      "cell_type": "code",
      "execution_count": null,
      "metadata": {
        "id": "CPtDh4iwccpM",
        "outputId": "c876069e-251c-4350-facd-986748941ccb",
        "colab": {
          "base_uri": "https://localhost:8080/"
        }
      },
      "outputs": [
        {
          "output_type": "stream",
          "name": "stdout",
          "text": [
            "Enter the First number : 1\n",
            "Enter the second number : 8\n",
            "Enter the third number : 15\n",
            "num3 is largest\n"
          ]
        }
      ],
      "source": [
        "# Your code here\n",
        "num1 = int(input(\"Enter the First number : \"))\n",
        "num2 = int(input(\"Enter the second number : \"))\n",
        "num3 = int(input(\"Enter the third number : \"))\n",
        "\n",
        "if num1 > num2 and num1 > num3:\n",
        "  print(\"num1 is laegest\")\n",
        "\n",
        "elif num2 > num1 and num2 > num3:\n",
        "  print(\"num2 is largest\")\n",
        "\n",
        "else:\n",
        "  print(\"num3 is largest\")\n",
        "\n"
      ]
    },
    {
      "cell_type": "markdown",
      "metadata": {
        "id": "1uHfCZ2pccpM"
      },
      "source": [
        "**Question 5:** Write a Python program to calculate the factorial of a number."
      ]
    },
    {
      "cell_type": "code",
      "execution_count": null,
      "metadata": {
        "id": "9Q-mDJUoccpN",
        "outputId": "22d664c7-00c0-45c9-c056-26dce8de3e98",
        "colab": {
          "base_uri": "https://localhost:8080/"
        }
      },
      "outputs": [
        {
          "output_type": "stream",
          "name": "stdout",
          "text": [
            "Enter the number5\n",
            "120\n"
          ]
        }
      ],
      "source": [
        "# Your code here\n",
        "\n",
        "num = int(input(\"Enter the number\"))\n",
        "fact = 1\n",
        "\n",
        "for i in range(1,num+1):\n",
        "  fact*=i\n",
        "print(fact)\n",
        "\n"
      ]
    },
    {
      "cell_type": "markdown",
      "metadata": {
        "id": "1Ene8HLDccpN"
      },
      "source": [
        "## 2. Variables and Data Types\n",
        "\n",
        "**Question 6:** Create variables of different data types: integer, float, string, and boolean. Print their values and types."
      ]
    },
    {
      "cell_type": "code",
      "execution_count": null,
      "metadata": {
        "id": "EX-vzkuwccpO",
        "outputId": "286eecc9-b49b-42e3-f986-8397858f4c27",
        "colab": {
          "base_uri": "https://localhost:8080/"
        }
      },
      "outputs": [
        {
          "output_type": "stream",
          "name": "stdout",
          "text": [
            "int:10\n",
            "<class 'int'>\n",
            "flaot:10.1\n",
            "<class 'float'>\n",
            "string:Hello\n",
            "<class 'str'>\n",
            "bool:True\n",
            "<class 'bool'>\n"
          ]
        }
      ],
      "source": [
        "# Your code here\n",
        "a = 10\n",
        "b = 10.1\n",
        "c = \"Hello\"\n",
        "d = True\n",
        "\n",
        "print(f\"int:{a}\")\n",
        "print(type(a))\n",
        "\n",
        "print(f\"flaot:{b}\")\n",
        "print(type(b))\n",
        "\n",
        "print(f\"string:{c}\")\n",
        "print(type(c))\n",
        "\n",
        "print(f\"bool:{d}\")\n",
        "print(type(d))"
      ]
    },
    {
      "cell_type": "markdown",
      "metadata": {
        "id": "IVqhPQnRccpO"
      },
      "source": [
        "**Question 7:** Write a Python program to swap the values of two variables."
      ]
    },
    {
      "cell_type": "code",
      "execution_count": null,
      "metadata": {
        "id": "zhHKgcnlccpO",
        "outputId": "e68bdf30-510b-407b-df0c-011ccd09205c",
        "colab": {
          "base_uri": "https://localhost:8080/"
        }
      },
      "outputs": [
        {
          "output_type": "stream",
          "name": "stdout",
          "text": [
            "5\n",
            "10\n"
          ]
        }
      ],
      "source": [
        "# Your code here\n",
        "a = 10\n",
        "b = 5\n",
        "\n",
        "a,b = b,a\n",
        "print(a)\n",
        "print(b)\n"
      ]
    },
    {
      "cell_type": "markdown",
      "metadata": {
        "id": "LX37uBb-ccpP"
      },
      "source": [
        "**Question 8:** Write a Python program to convert Celsius to Fahrenheit."
      ]
    },
    {
      "cell_type": "code",
      "execution_count": null,
      "metadata": {
        "id": "FeHTEoQmccpP",
        "outputId": "880d69e8-db79-4d52-c3a0-10cf554cf940",
        "colab": {
          "base_uri": "https://localhost:8080/"
        }
      },
      "outputs": [
        {
          "output_type": "stream",
          "name": "stdout",
          "text": [
            "113.0\n"
          ]
        }
      ],
      "source": [
        "# Your code here\n",
        "\n",
        "cel = 45\n",
        "far = (cel * 9/5) + 32\n",
        "print(far)"
      ]
    },
    {
      "cell_type": "markdown",
      "metadata": {
        "id": "6tQ5HA0FccpP"
      },
      "source": [
        "**Question 9:** Write a Python program to concatenate two strings."
      ]
    },
    {
      "cell_type": "code",
      "execution_count": null,
      "metadata": {
        "id": "XPjX_c09ccpP",
        "outputId": "43e9aabb-96d1-44bd-a631-e2c4171cb949",
        "colab": {
          "base_uri": "https://localhost:8080/"
        }
      },
      "outputs": [
        {
          "output_type": "stream",
          "name": "stdout",
          "text": [
            "Hello World\n"
          ]
        }
      ],
      "source": [
        "# Your code here\n",
        "\n",
        "a = \"Hello\"\n",
        "b = \"World\"\n",
        "\n",
        "print(a + \" \" + b)"
      ]
    },
    {
      "cell_type": "markdown",
      "metadata": {
        "id": "bUREaU7zccpQ"
      },
      "source": [
        "**Question 10:** Write a Python program to check if a variable is of a specific data type."
      ]
    },
    {
      "cell_type": "code",
      "execution_count": null,
      "metadata": {
        "id": "kLm1nNnSccpQ",
        "outputId": "9556ff8e-13e1-424f-9f0e-8b33d7581db2",
        "colab": {
          "base_uri": "https://localhost:8080/"
        }
      },
      "outputs": [
        {
          "output_type": "stream",
          "name": "stdout",
          "text": [
            "x is int\n",
            "y is float\n",
            "z is string\n"
          ]
        }
      ],
      "source": [
        "# Your code here\n",
        "x = 10\n",
        "y = 3.1\n",
        "z = \"Hello\"\n",
        "\n",
        "if isinstance(x,int):\n",
        "  print(\"x is int\")\n",
        "\n",
        "if isinstance(y,float):\n",
        "  print(\"y is float\")\n",
        "\n",
        "if isinstance(z,str):\n",
        "  print(\"z is string\")"
      ]
    },
    {
      "cell_type": "markdown",
      "metadata": {
        "id": "hj_kVnHlccpQ"
      },
      "source": [
        "## 3. Basic Operators (Arithmetic, Comparison, Logical)\n",
        "\n",
        "**Question 11:** Write a Python program to perform arithmetic operations: addition, subtraction, multiplication, and division."
      ]
    },
    {
      "cell_type": "code",
      "execution_count": null,
      "metadata": {
        "id": "kuoPBx54ccpQ",
        "outputId": "09fc901b-b9cc-4a71-e601-2ba170b2c0b9",
        "colab": {
          "base_uri": "https://localhost:8080/"
        }
      },
      "outputs": [
        {
          "output_type": "stream",
          "name": "stdout",
          "text": [
            "15\n",
            "5\n",
            "50\n",
            "2.0\n"
          ]
        }
      ],
      "source": [
        "# Your code here\n",
        "\n",
        "a = 10\n",
        "b = 5\n",
        "\n",
        "print(a+b)\n",
        "print(a-b)\n",
        "print(a*b)\n",
        "print(a/b)"
      ]
    },
    {
      "cell_type": "markdown",
      "metadata": {
        "id": "3pYFfg6yccpQ"
      },
      "source": [
        "**Question 12:** Write a Python program to demonstrate comparison operators: equal to, not equal to, greater than, less than."
      ]
    },
    {
      "cell_type": "code",
      "execution_count": null,
      "metadata": {
        "id": "SWT82lm4ccpR",
        "outputId": "54add457-e1f9-4dae-cf9f-6fea6b2bbf6b",
        "colab": {
          "base_uri": "https://localhost:8080/"
        }
      },
      "outputs": [
        {
          "output_type": "stream",
          "name": "stdout",
          "text": [
            "a and b are equal\n",
            "both a and b are equal\n"
          ]
        }
      ],
      "source": [
        "# Your code here\n",
        "\n",
        "a = 10\n",
        "b = 10\n",
        "\n",
        "if a==b:\n",
        "  print(\"a and b are equal\")\n",
        "\n",
        "if a!=b:\n",
        "  print(\"a and b are not equal\")\n",
        "\n",
        "if a>b:\n",
        "  print(\"a is greater than b\")\n",
        "\n",
        "if a<b:\n",
        "  print(\"a is lesser than b\")\n",
        "else:\n",
        "  print(\"both a and b are equal\")"
      ]
    },
    {
      "cell_type": "markdown",
      "metadata": {
        "id": "m2Lzu1MiccpR"
      },
      "source": [
        "**Question 13:** Write a Python program to demonstrate logical operators: and, or, not."
      ]
    },
    {
      "cell_type": "code",
      "execution_count": null,
      "metadata": {
        "id": "l4OpzN7KccpR",
        "outputId": "dd34a3ef-3819-4043-c6f4-97911e6b5103",
        "colab": {
          "base_uri": "https://localhost:8080/"
        }
      },
      "outputs": [
        {
          "output_type": "stream",
          "name": "stdout",
          "text": [
            "False\n",
            "True\n",
            "False\n",
            "True\n"
          ]
        }
      ],
      "source": [
        "# Your code here\n",
        "\n",
        "a = True\n",
        "b = False\n",
        "\n",
        "print(a and b)\n",
        "print(a or b)\n",
        "print(not a )\n",
        "print(not b)\n"
      ]
    },
    {
      "cell_type": "markdown",
      "metadata": {
        "id": "3-X7TSPUccpR"
      },
      "source": [
        "**Question 14:** Write a Python program to calculate the square of a number."
      ]
    },
    {
      "cell_type": "code",
      "execution_count": null,
      "metadata": {
        "id": "1Y3ZlYtGccpR",
        "outputId": "6e158f5c-8c18-49e4-b4c2-30a375e08996",
        "colab": {
          "base_uri": "https://localhost:8080/"
        }
      },
      "outputs": [
        {
          "output_type": "stream",
          "name": "stdout",
          "text": [
            "4\n"
          ]
        }
      ],
      "source": [
        "# Your code here\n",
        "\n",
        "a = 2\n",
        "print(a**2)"
      ]
    },
    {
      "cell_type": "markdown",
      "metadata": {
        "id": "BQp_kRzVccpR"
      },
      "source": [
        "**Question 15:** Write a Python program to check if a number is even or odd."
      ]
    },
    {
      "cell_type": "code",
      "execution_count": null,
      "metadata": {
        "id": "VjGPwu9PccpR",
        "outputId": "7c17f8cd-7e75-4394-9952-60a44b97c100",
        "colab": {
          "base_uri": "https://localhost:8080/"
        }
      },
      "outputs": [
        {
          "output_type": "stream",
          "name": "stdout",
          "text": [
            "Enter a number : 3\n",
            "odd\n"
          ]
        }
      ],
      "source": [
        "# Your code here\n",
        "\n",
        "a = int(input(\"Enter a number : \"))\n",
        "\n",
        "if a%2==0:\n",
        "  print(\"even\")\n",
        "else:\n",
        "  print(\"odd\")"
      ]
    },
    {
      "cell_type": "markdown",
      "metadata": {
        "id": "3Pq_Q-wIccpS"
      },
      "source": [
        "**Question 16:** Write a Python program to find the sum of the first n natural numbers."
      ]
    },
    {
      "cell_type": "code",
      "execution_count": null,
      "metadata": {
        "id": "xe3Oi5OXccpS",
        "outputId": "bb957af1-976e-42de-9e15-90148c827a26",
        "colab": {
          "base_uri": "https://localhost:8080/"
        }
      },
      "outputs": [
        {
          "output_type": "stream",
          "name": "stdout",
          "text": [
            "15\n"
          ]
        }
      ],
      "source": [
        "# Your code here\n",
        "\n",
        "num = 5\n",
        "sum = 0\n",
        "\n",
        "for i in range(1,num+1):\n",
        "  sum+=i\n",
        "\n",
        "print(sum)\n"
      ]
    },
    {
      "cell_type": "markdown",
      "metadata": {
        "id": "uwv8k-a0ccpS"
      },
      "source": [
        "**Question 17:** Write a Python program to check if a year is a leap year."
      ]
    },
    {
      "cell_type": "code",
      "execution_count": null,
      "metadata": {
        "id": "Atta9EVgccpS",
        "outputId": "763967b2-43d4-4ab6-a988-ef6578a0d369",
        "colab": {
          "base_uri": "https://localhost:8080/"
        }
      },
      "outputs": [
        {
          "output_type": "stream",
          "name": "stdout",
          "text": [
            "enter the year : 2024\n",
            "leap year\n"
          ]
        }
      ],
      "source": [
        "# Your code here\n",
        "\n",
        "year = int(input(\"enter the year : \"))\n",
        "\n",
        "if (year%4==0 and year%100 != 0) or (year%400==0):\n",
        "  print(\"leap year\")\n",
        "\n",
        "else:\n",
        "  print(\"not a leap year\")"
      ]
    },
    {
      "cell_type": "markdown",
      "metadata": {
        "id": "JGV5G2_5ccpS"
      },
      "source": [
        "**Question 18:** Write a Python program to reverse a string."
      ]
    },
    {
      "cell_type": "code",
      "execution_count": null,
      "metadata": {
        "id": "Tq2FwqziccpS",
        "outputId": "53ad0c61-53e8-44ae-bb8e-ea3e854c1f2a",
        "colab": {
          "base_uri": "https://localhost:8080/"
        }
      },
      "outputs": [
        {
          "output_type": "stream",
          "name": "stdout",
          "text": [
            "olleH\n"
          ]
        }
      ],
      "source": [
        "# Your code here\n",
        "\n",
        "a = \"Hello\"\n",
        "print(a[::-1])"
      ]
    },
    {
      "cell_type": "markdown",
      "metadata": {
        "id": "IhmOtQEJccpT"
      },
      "source": [
        "**Question 19:** Write a Python program to check if a string is a palindrome."
      ]
    },
    {
      "cell_type": "code",
      "execution_count": null,
      "metadata": {
        "id": "wStSlftqccpT",
        "outputId": "ad7df408-af46-4655-e9aa-2ce9bcd697a3",
        "colab": {
          "base_uri": "https://localhost:8080/"
        }
      },
      "outputs": [
        {
          "output_type": "stream",
          "name": "stdout",
          "text": [
            "palindrome\n"
          ]
        }
      ],
      "source": [
        "# Your code here\n",
        "\n",
        "a = \"mam\"\n",
        "\n",
        "\n",
        "if a == a[::-1]:\n",
        "  print(\"palindrome\")\n",
        "else:\n",
        "  print(\"Not a plaindrome\")"
      ]
    },
    {
      "cell_type": "markdown",
      "metadata": {
        "id": "62Hk7AOkccpZ"
      },
      "source": [
        "**Question 20:** Write a Python program to sort a list of numbers in ascending order."
      ]
    },
    {
      "cell_type": "code",
      "execution_count": null,
      "metadata": {
        "id": "1YuMfwfYccpZ",
        "outputId": "d7ce9971-6923-410f-bdc8-8a42a6b58922",
        "colab": {
          "base_uri": "https://localhost:8080/"
        }
      },
      "outputs": [
        {
          "output_type": "stream",
          "name": "stdout",
          "text": [
            "[1, 2, 3, 4, 5]\n"
          ]
        }
      ],
      "source": [
        "# Your code here\n",
        "\n",
        "a = [1,3,4,2,5]\n",
        "a.sort()\n",
        "print(a)"
      ]
    }
  ],
  "metadata": {
    "kernelspec": {
      "display_name": "Python 3",
      "language": "python",
      "name": "python3"
    },
    "language_info": {
      "codemirror_mode": {
        "name": "ipython",
        "version": 3
      },
      "file_extension": ".py",
      "mimetype": "text/x-python",
      "name": "python",
      "nbconvert_exporter": "python",
      "pygments_lexer": "ipython3",
      "version": "3.8.5"
    },
    "colab": {
      "provenance": []
    }
  },
  "nbformat": 4,
  "nbformat_minor": 0
}