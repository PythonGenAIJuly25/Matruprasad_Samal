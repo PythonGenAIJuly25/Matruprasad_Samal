{
 "cells": [
  {
   "cell_type": "markdown",
   "id": "276c8e1e",
   "metadata": {},
   "source": [
    "#  Import the Necessary Libraries "
   ]
  },
  {
   "cell_type": "code",
   "execution_count": 1,
   "id": "4f12d7cf",
   "metadata": {},
   "outputs": [],
   "source": [
    "import pandas as pd\n",
    "import numpy as np\n",
    "import requests\n",
    "import datetime\n",
    "import random\n",
    "import os\n",
    "from google.cloud import bigquery\n",
    "from google.oauth2 import service_account\n",
    "import warnings\n",
    "warnings.filterwarnings('ignore')"
   ]
  },
  {
   "cell_type": "markdown",
   "id": "fc0b8fb5",
   "metadata": {},
   "source": [
    "# Load the Global Superstore Data"
   ]
  },
  {
   "cell_type": "code",
   "execution_count": 2,
   "id": "2b81b88d",
   "metadata": {},
   "outputs": [
    {
     "name": "stdout",
     "output_type": "stream",
     "text": [
      " Orders loaded: (51290, 24)\n",
      " Returns loaded: (1173, 3)\n"
     ]
    }
   ],
   "source": [
    "orders_df = pd.read_excel('Global Superstore.xls', sheet_name='Orders')\n",
    "returns_df = pd.read_excel('Global Superstore.xls', sheet_name='Returns')\n",
    "\n",
    "print(\" Orders loaded:\", orders_df.shape)\n",
    "print(\" Returns loaded:\", returns_df.shape)\n",
    "\n"
   ]
  },
  {
   "cell_type": "markdown",
   "id": "57a52d28",
   "metadata": {},
   "source": [
    "# Exploaring the Global superstore Data"
   ]
  },
  {
   "cell_type": "markdown",
   "id": "42f64a1a",
   "metadata": {},
   "source": [
    "# Orders Sheet"
   ]
  },
  {
   "cell_type": "code",
   "execution_count": 3,
   "id": "aba4157a",
   "metadata": {},
   "outputs": [
    {
     "data": {
      "text/html": [
       "<div>\n",
       "<style scoped>\n",
       "    .dataframe tbody tr th:only-of-type {\n",
       "        vertical-align: middle;\n",
       "    }\n",
       "\n",
       "    .dataframe tbody tr th {\n",
       "        vertical-align: top;\n",
       "    }\n",
       "\n",
       "    .dataframe thead th {\n",
       "        text-align: right;\n",
       "    }\n",
       "</style>\n",
       "<table border=\"1\" class=\"dataframe\">\n",
       "  <thead>\n",
       "    <tr style=\"text-align: right;\">\n",
       "      <th></th>\n",
       "      <th>Row ID</th>\n",
       "      <th>Order ID</th>\n",
       "      <th>Order Date</th>\n",
       "      <th>Ship Date</th>\n",
       "      <th>Ship Mode</th>\n",
       "      <th>Customer ID</th>\n",
       "      <th>Customer Name</th>\n",
       "      <th>Segment</th>\n",
       "      <th>City</th>\n",
       "      <th>State</th>\n",
       "      <th>...</th>\n",
       "      <th>Product ID</th>\n",
       "      <th>Category</th>\n",
       "      <th>Sub-Category</th>\n",
       "      <th>Product Name</th>\n",
       "      <th>Sales</th>\n",
       "      <th>Quantity</th>\n",
       "      <th>Discount</th>\n",
       "      <th>Profit</th>\n",
       "      <th>Shipping Cost</th>\n",
       "      <th>Order Priority</th>\n",
       "    </tr>\n",
       "  </thead>\n",
       "  <tbody>\n",
       "    <tr>\n",
       "      <th>0</th>\n",
       "      <td>32298</td>\n",
       "      <td>CA-2012-124891</td>\n",
       "      <td>2012-07-31</td>\n",
       "      <td>2012-07-31</td>\n",
       "      <td>Same Day</td>\n",
       "      <td>RH-19495</td>\n",
       "      <td>Rick Hansen</td>\n",
       "      <td>Consumer</td>\n",
       "      <td>New York City</td>\n",
       "      <td>New York</td>\n",
       "      <td>...</td>\n",
       "      <td>TEC-AC-10003033</td>\n",
       "      <td>Technology</td>\n",
       "      <td>Accessories</td>\n",
       "      <td>Plantronics CS510 - Over-the-Head monaural Wir...</td>\n",
       "      <td>2309.650</td>\n",
       "      <td>7</td>\n",
       "      <td>0.0</td>\n",
       "      <td>762.1845</td>\n",
       "      <td>933.57</td>\n",
       "      <td>Critical</td>\n",
       "    </tr>\n",
       "    <tr>\n",
       "      <th>1</th>\n",
       "      <td>26341</td>\n",
       "      <td>IN-2013-77878</td>\n",
       "      <td>2013-02-05</td>\n",
       "      <td>2013-02-07</td>\n",
       "      <td>Second Class</td>\n",
       "      <td>JR-16210</td>\n",
       "      <td>Justin Ritter</td>\n",
       "      <td>Corporate</td>\n",
       "      <td>Wollongong</td>\n",
       "      <td>New South Wales</td>\n",
       "      <td>...</td>\n",
       "      <td>FUR-CH-10003950</td>\n",
       "      <td>Furniture</td>\n",
       "      <td>Chairs</td>\n",
       "      <td>Novimex Executive Leather Armchair, Black</td>\n",
       "      <td>3709.395</td>\n",
       "      <td>9</td>\n",
       "      <td>0.1</td>\n",
       "      <td>-288.7650</td>\n",
       "      <td>923.63</td>\n",
       "      <td>Critical</td>\n",
       "    </tr>\n",
       "    <tr>\n",
       "      <th>2</th>\n",
       "      <td>25330</td>\n",
       "      <td>IN-2013-71249</td>\n",
       "      <td>2013-10-17</td>\n",
       "      <td>2013-10-18</td>\n",
       "      <td>First Class</td>\n",
       "      <td>CR-12730</td>\n",
       "      <td>Craig Reiter</td>\n",
       "      <td>Consumer</td>\n",
       "      <td>Brisbane</td>\n",
       "      <td>Queensland</td>\n",
       "      <td>...</td>\n",
       "      <td>TEC-PH-10004664</td>\n",
       "      <td>Technology</td>\n",
       "      <td>Phones</td>\n",
       "      <td>Nokia Smart Phone, with Caller ID</td>\n",
       "      <td>5175.171</td>\n",
       "      <td>9</td>\n",
       "      <td>0.1</td>\n",
       "      <td>919.9710</td>\n",
       "      <td>915.49</td>\n",
       "      <td>Medium</td>\n",
       "    </tr>\n",
       "    <tr>\n",
       "      <th>3</th>\n",
       "      <td>13524</td>\n",
       "      <td>ES-2013-1579342</td>\n",
       "      <td>2013-01-28</td>\n",
       "      <td>2013-01-30</td>\n",
       "      <td>First Class</td>\n",
       "      <td>KM-16375</td>\n",
       "      <td>Katherine Murray</td>\n",
       "      <td>Home Office</td>\n",
       "      <td>Berlin</td>\n",
       "      <td>Berlin</td>\n",
       "      <td>...</td>\n",
       "      <td>TEC-PH-10004583</td>\n",
       "      <td>Technology</td>\n",
       "      <td>Phones</td>\n",
       "      <td>Motorola Smart Phone, Cordless</td>\n",
       "      <td>2892.510</td>\n",
       "      <td>5</td>\n",
       "      <td>0.1</td>\n",
       "      <td>-96.5400</td>\n",
       "      <td>910.16</td>\n",
       "      <td>Medium</td>\n",
       "    </tr>\n",
       "    <tr>\n",
       "      <th>4</th>\n",
       "      <td>47221</td>\n",
       "      <td>SG-2013-4320</td>\n",
       "      <td>2013-11-05</td>\n",
       "      <td>2013-11-06</td>\n",
       "      <td>Same Day</td>\n",
       "      <td>RH-9495</td>\n",
       "      <td>Rick Hansen</td>\n",
       "      <td>Consumer</td>\n",
       "      <td>Dakar</td>\n",
       "      <td>Dakar</td>\n",
       "      <td>...</td>\n",
       "      <td>TEC-SHA-10000501</td>\n",
       "      <td>Technology</td>\n",
       "      <td>Copiers</td>\n",
       "      <td>Sharp Wireless Fax, High-Speed</td>\n",
       "      <td>2832.960</td>\n",
       "      <td>8</td>\n",
       "      <td>0.0</td>\n",
       "      <td>311.5200</td>\n",
       "      <td>903.04</td>\n",
       "      <td>Critical</td>\n",
       "    </tr>\n",
       "  </tbody>\n",
       "</table>\n",
       "<p>5 rows × 24 columns</p>\n",
       "</div>"
      ],
      "text/plain": [
       "   Row ID         Order ID Order Date  Ship Date     Ship Mode Customer ID  \\\n",
       "0   32298   CA-2012-124891 2012-07-31 2012-07-31      Same Day    RH-19495   \n",
       "1   26341    IN-2013-77878 2013-02-05 2013-02-07  Second Class    JR-16210   \n",
       "2   25330    IN-2013-71249 2013-10-17 2013-10-18   First Class    CR-12730   \n",
       "3   13524  ES-2013-1579342 2013-01-28 2013-01-30   First Class    KM-16375   \n",
       "4   47221     SG-2013-4320 2013-11-05 2013-11-06      Same Day     RH-9495   \n",
       "\n",
       "      Customer Name      Segment           City            State  ...  \\\n",
       "0       Rick Hansen     Consumer  New York City         New York  ...   \n",
       "1     Justin Ritter    Corporate     Wollongong  New South Wales  ...   \n",
       "2      Craig Reiter     Consumer       Brisbane       Queensland  ...   \n",
       "3  Katherine Murray  Home Office         Berlin           Berlin  ...   \n",
       "4       Rick Hansen     Consumer          Dakar            Dakar  ...   \n",
       "\n",
       "         Product ID    Category Sub-Category  \\\n",
       "0   TEC-AC-10003033  Technology  Accessories   \n",
       "1   FUR-CH-10003950   Furniture       Chairs   \n",
       "2   TEC-PH-10004664  Technology       Phones   \n",
       "3   TEC-PH-10004583  Technology       Phones   \n",
       "4  TEC-SHA-10000501  Technology      Copiers   \n",
       "\n",
       "                                        Product Name     Sales Quantity  \\\n",
       "0  Plantronics CS510 - Over-the-Head monaural Wir...  2309.650        7   \n",
       "1          Novimex Executive Leather Armchair, Black  3709.395        9   \n",
       "2                  Nokia Smart Phone, with Caller ID  5175.171        9   \n",
       "3                     Motorola Smart Phone, Cordless  2892.510        5   \n",
       "4                     Sharp Wireless Fax, High-Speed  2832.960        8   \n",
       "\n",
       "  Discount    Profit  Shipping Cost  Order Priority  \n",
       "0      0.0  762.1845         933.57        Critical  \n",
       "1      0.1 -288.7650         923.63        Critical  \n",
       "2      0.1  919.9710         915.49          Medium  \n",
       "3      0.1  -96.5400         910.16          Medium  \n",
       "4      0.0  311.5200         903.04        Critical  \n",
       "\n",
       "[5 rows x 24 columns]"
      ]
     },
     "execution_count": 3,
     "metadata": {},
     "output_type": "execute_result"
    }
   ],
   "source": [
    "orders_df.head()"
   ]
  },
  {
   "cell_type": "code",
   "execution_count": 4,
   "id": "ec61895a",
   "metadata": {},
   "outputs": [
    {
     "name": "stdout",
     "output_type": "stream",
     "text": [
      "<class 'pandas.core.frame.DataFrame'>\n",
      "RangeIndex: 51290 entries, 0 to 51289\n",
      "Data columns (total 24 columns):\n",
      " #   Column          Non-Null Count  Dtype         \n",
      "---  ------          --------------  -----         \n",
      " 0   Row ID          51290 non-null  int64         \n",
      " 1   Order ID        51290 non-null  object        \n",
      " 2   Order Date      51290 non-null  datetime64[ns]\n",
      " 3   Ship Date       51290 non-null  datetime64[ns]\n",
      " 4   Ship Mode       51290 non-null  object        \n",
      " 5   Customer ID     51290 non-null  object        \n",
      " 6   Customer Name   51290 non-null  object        \n",
      " 7   Segment         51290 non-null  object        \n",
      " 8   City            51290 non-null  object        \n",
      " 9   State           51290 non-null  object        \n",
      " 10  Country         51290 non-null  object        \n",
      " 11  Postal Code     9994 non-null   float64       \n",
      " 12  Market          51290 non-null  object        \n",
      " 13  Region          51290 non-null  object        \n",
      " 14  Product ID      51290 non-null  object        \n",
      " 15  Category        51290 non-null  object        \n",
      " 16  Sub-Category    51290 non-null  object        \n",
      " 17  Product Name    51290 non-null  object        \n",
      " 18  Sales           51290 non-null  float64       \n",
      " 19  Quantity        51290 non-null  int64         \n",
      " 20  Discount        51290 non-null  float64       \n",
      " 21  Profit          51290 non-null  float64       \n",
      " 22  Shipping Cost   51290 non-null  float64       \n",
      " 23  Order Priority  51290 non-null  object        \n",
      "dtypes: datetime64[ns](2), float64(5), int64(2), object(15)\n",
      "memory usage: 9.4+ MB\n"
     ]
    }
   ],
   "source": [
    "orders_df.info()"
   ]
  },
  {
   "cell_type": "code",
   "execution_count": 5,
   "id": "1ec10f60",
   "metadata": {},
   "outputs": [
    {
     "data": {
      "text/plain": [
       "Index(['Row ID', 'Order ID', 'Order Date', 'Ship Date', 'Ship Mode',\n",
       "       'Customer ID', 'Customer Name', 'Segment', 'City', 'State', 'Country',\n",
       "       'Postal Code', 'Market', 'Region', 'Product ID', 'Category',\n",
       "       'Sub-Category', 'Product Name', 'Sales', 'Quantity', 'Discount',\n",
       "       'Profit', 'Shipping Cost', 'Order Priority'],\n",
       "      dtype='object')"
      ]
     },
     "execution_count": 5,
     "metadata": {},
     "output_type": "execute_result"
    }
   ],
   "source": [
    "orders_df.keys()"
   ]
  },
  {
   "cell_type": "code",
   "execution_count": 6,
   "id": "03879bde",
   "metadata": {},
   "outputs": [],
   "source": [
    "numerical = [\"Sales\", \"Quantity\", \"Discount\", \"Profit\", \"Shipping Cost\"]\n",
    "\n",
    "categorical = [\"Ship Mode\",\"Segment\",\"City\",\"State\",\"Country\",\"Market\",\"Region\",\"Category\",\"Sub-Category\",\"Product Name\"]"
   ]
  },
  {
   "cell_type": "code",
   "execution_count": 7,
   "id": "22b9bd1e",
   "metadata": {},
   "outputs": [
    {
     "data": {
      "text/html": [
       "<div>\n",
       "<style scoped>\n",
       "    .dataframe tbody tr th:only-of-type {\n",
       "        vertical-align: middle;\n",
       "    }\n",
       "\n",
       "    .dataframe tbody tr th {\n",
       "        vertical-align: top;\n",
       "    }\n",
       "\n",
       "    .dataframe thead th {\n",
       "        text-align: right;\n",
       "    }\n",
       "</style>\n",
       "<table border=\"1\" class=\"dataframe\">\n",
       "  <thead>\n",
       "    <tr style=\"text-align: right;\">\n",
       "      <th></th>\n",
       "      <th>Ship Mode</th>\n",
       "      <th>Segment</th>\n",
       "      <th>City</th>\n",
       "      <th>State</th>\n",
       "      <th>Country</th>\n",
       "      <th>Market</th>\n",
       "      <th>Region</th>\n",
       "      <th>Category</th>\n",
       "      <th>Sub-Category</th>\n",
       "      <th>Product Name</th>\n",
       "    </tr>\n",
       "  </thead>\n",
       "  <tbody>\n",
       "    <tr>\n",
       "      <th>count</th>\n",
       "      <td>51290</td>\n",
       "      <td>51290</td>\n",
       "      <td>51290</td>\n",
       "      <td>51290</td>\n",
       "      <td>51290</td>\n",
       "      <td>51290</td>\n",
       "      <td>51290</td>\n",
       "      <td>51290</td>\n",
       "      <td>51290</td>\n",
       "      <td>51290</td>\n",
       "    </tr>\n",
       "    <tr>\n",
       "      <th>unique</th>\n",
       "      <td>4</td>\n",
       "      <td>3</td>\n",
       "      <td>3636</td>\n",
       "      <td>1094</td>\n",
       "      <td>147</td>\n",
       "      <td>7</td>\n",
       "      <td>13</td>\n",
       "      <td>3</td>\n",
       "      <td>17</td>\n",
       "      <td>3788</td>\n",
       "    </tr>\n",
       "    <tr>\n",
       "      <th>top</th>\n",
       "      <td>Standard Class</td>\n",
       "      <td>Consumer</td>\n",
       "      <td>New York City</td>\n",
       "      <td>California</td>\n",
       "      <td>United States</td>\n",
       "      <td>APAC</td>\n",
       "      <td>Central</td>\n",
       "      <td>Office Supplies</td>\n",
       "      <td>Binders</td>\n",
       "      <td>Staples</td>\n",
       "    </tr>\n",
       "    <tr>\n",
       "      <th>freq</th>\n",
       "      <td>30775</td>\n",
       "      <td>26518</td>\n",
       "      <td>915</td>\n",
       "      <td>2001</td>\n",
       "      <td>9994</td>\n",
       "      <td>11002</td>\n",
       "      <td>11117</td>\n",
       "      <td>31273</td>\n",
       "      <td>6152</td>\n",
       "      <td>227</td>\n",
       "    </tr>\n",
       "  </tbody>\n",
       "</table>\n",
       "</div>"
      ],
      "text/plain": [
       "             Ship Mode   Segment           City       State        Country  \\\n",
       "count            51290     51290          51290       51290          51290   \n",
       "unique               4         3           3636        1094            147   \n",
       "top     Standard Class  Consumer  New York City  California  United States   \n",
       "freq             30775     26518            915        2001           9994   \n",
       "\n",
       "       Market   Region         Category Sub-Category Product Name  \n",
       "count   51290    51290            51290        51290        51290  \n",
       "unique      7       13                3           17         3788  \n",
       "top      APAC  Central  Office Supplies      Binders      Staples  \n",
       "freq    11002    11117            31273         6152          227  "
      ]
     },
     "execution_count": 7,
     "metadata": {},
     "output_type": "execute_result"
    }
   ],
   "source": [
    "orders_df[categorical].describe()"
   ]
  },
  {
   "cell_type": "code",
   "execution_count": 8,
   "id": "fd64d20a",
   "metadata": {},
   "outputs": [
    {
     "data": {
      "text/html": [
       "<div>\n",
       "<style scoped>\n",
       "    .dataframe tbody tr th:only-of-type {\n",
       "        vertical-align: middle;\n",
       "    }\n",
       "\n",
       "    .dataframe tbody tr th {\n",
       "        vertical-align: top;\n",
       "    }\n",
       "\n",
       "    .dataframe thead th {\n",
       "        text-align: right;\n",
       "    }\n",
       "</style>\n",
       "<table border=\"1\" class=\"dataframe\">\n",
       "  <thead>\n",
       "    <tr style=\"text-align: right;\">\n",
       "      <th></th>\n",
       "      <th>Sales</th>\n",
       "      <th>Quantity</th>\n",
       "      <th>Discount</th>\n",
       "      <th>Profit</th>\n",
       "      <th>Shipping Cost</th>\n",
       "    </tr>\n",
       "  </thead>\n",
       "  <tbody>\n",
       "    <tr>\n",
       "      <th>count</th>\n",
       "      <td>51290.000000</td>\n",
       "      <td>51290.000000</td>\n",
       "      <td>51290.000000</td>\n",
       "      <td>51290.000000</td>\n",
       "      <td>51290.000000</td>\n",
       "    </tr>\n",
       "    <tr>\n",
       "      <th>mean</th>\n",
       "      <td>246.490581</td>\n",
       "      <td>3.476545</td>\n",
       "      <td>0.142908</td>\n",
       "      <td>28.610982</td>\n",
       "      <td>26.375818</td>\n",
       "    </tr>\n",
       "    <tr>\n",
       "      <th>std</th>\n",
       "      <td>487.565361</td>\n",
       "      <td>2.278766</td>\n",
       "      <td>0.212280</td>\n",
       "      <td>174.340972</td>\n",
       "      <td>57.296810</td>\n",
       "    </tr>\n",
       "    <tr>\n",
       "      <th>min</th>\n",
       "      <td>0.444000</td>\n",
       "      <td>1.000000</td>\n",
       "      <td>0.000000</td>\n",
       "      <td>-6599.978000</td>\n",
       "      <td>0.002000</td>\n",
       "    </tr>\n",
       "    <tr>\n",
       "      <th>25%</th>\n",
       "      <td>30.758625</td>\n",
       "      <td>2.000000</td>\n",
       "      <td>0.000000</td>\n",
       "      <td>0.000000</td>\n",
       "      <td>2.610000</td>\n",
       "    </tr>\n",
       "    <tr>\n",
       "      <th>50%</th>\n",
       "      <td>85.053000</td>\n",
       "      <td>3.000000</td>\n",
       "      <td>0.000000</td>\n",
       "      <td>9.240000</td>\n",
       "      <td>7.790000</td>\n",
       "    </tr>\n",
       "    <tr>\n",
       "      <th>75%</th>\n",
       "      <td>251.053200</td>\n",
       "      <td>5.000000</td>\n",
       "      <td>0.200000</td>\n",
       "      <td>36.810000</td>\n",
       "      <td>24.450000</td>\n",
       "    </tr>\n",
       "    <tr>\n",
       "      <th>max</th>\n",
       "      <td>22638.480000</td>\n",
       "      <td>14.000000</td>\n",
       "      <td>0.850000</td>\n",
       "      <td>8399.976000</td>\n",
       "      <td>933.570000</td>\n",
       "    </tr>\n",
       "  </tbody>\n",
       "</table>\n",
       "</div>"
      ],
      "text/plain": [
       "              Sales      Quantity      Discount        Profit  Shipping Cost\n",
       "count  51290.000000  51290.000000  51290.000000  51290.000000   51290.000000\n",
       "mean     246.490581      3.476545      0.142908     28.610982      26.375818\n",
       "std      487.565361      2.278766      0.212280    174.340972      57.296810\n",
       "min        0.444000      1.000000      0.000000  -6599.978000       0.002000\n",
       "25%       30.758625      2.000000      0.000000      0.000000       2.610000\n",
       "50%       85.053000      3.000000      0.000000      9.240000       7.790000\n",
       "75%      251.053200      5.000000      0.200000     36.810000      24.450000\n",
       "max    22638.480000     14.000000      0.850000   8399.976000     933.570000"
      ]
     },
     "execution_count": 8,
     "metadata": {},
     "output_type": "execute_result"
    }
   ],
   "source": [
    "orders_df[numerical].describe()"
   ]
  },
  {
   "cell_type": "code",
   "execution_count": 9,
   "id": "08b9c997",
   "metadata": {},
   "outputs": [
    {
     "data": {
      "text/plain": [
       "Ship Mode\n",
       "Standard Class    30775\n",
       "Second Class      10309\n",
       "First Class        7505\n",
       "Same Day           2701\n",
       "Name: count, dtype: int64"
      ]
     },
     "execution_count": 9,
     "metadata": {},
     "output_type": "execute_result"
    }
   ],
   "source": [
    "orders_df[\"Ship Mode\"].value_counts()"
   ]
  },
  {
   "cell_type": "code",
   "execution_count": 10,
   "id": "6af8c7f9",
   "metadata": {},
   "outputs": [
    {
     "data": {
      "text/plain": [
       "Segment\n",
       "Consumer       26518\n",
       "Corporate      15429\n",
       "Home Office     9343\n",
       "Name: count, dtype: int64"
      ]
     },
     "execution_count": 10,
     "metadata": {},
     "output_type": "execute_result"
    }
   ],
   "source": [
    "orders_df[\"Segment\"].value_counts()"
   ]
  },
  {
   "cell_type": "code",
   "execution_count": 11,
   "id": "094c9fe1",
   "metadata": {},
   "outputs": [
    {
     "data": {
      "text/plain": [
       "array(['New York City', 'Wollongong', 'Brisbane', ..., 'Abilene',\n",
       "       'Felahiye', 'Victoria Falls'], dtype=object)"
      ]
     },
     "execution_count": 11,
     "metadata": {},
     "output_type": "execute_result"
    }
   ],
   "source": [
    "orders_df[\"City\"].unique()"
   ]
  },
  {
   "cell_type": "code",
   "execution_count": 12,
   "id": "0ab73d02",
   "metadata": {},
   "outputs": [
    {
     "data": {
      "text/plain": [
       "City\n",
       "New York City     915\n",
       "Los Angeles       747\n",
       "Philadelphia      537\n",
       "San Francisco     510\n",
       "Santo Domingo     443\n",
       "                 ... \n",
       "Vesoul              1\n",
       "Várzea Grande       1\n",
       "Luanshya            1\n",
       "Kissimmee           1\n",
       "Victoria Falls      1\n",
       "Name: count, Length: 3636, dtype: int64"
      ]
     },
     "execution_count": 12,
     "metadata": {},
     "output_type": "execute_result"
    }
   ],
   "source": [
    "orders_df[\"City\"].value_counts()"
   ]
  },
  {
   "cell_type": "code",
   "execution_count": 13,
   "id": "f85df409",
   "metadata": {},
   "outputs": [
    {
     "data": {
      "text/plain": [
       "array(['New York', 'New South Wales', 'Queensland', ..., 'Manicaland',\n",
       "       'Kabarole', 'Matabeleland North'], dtype=object)"
      ]
     },
     "execution_count": 13,
     "metadata": {},
     "output_type": "execute_result"
    }
   ],
   "source": [
    "orders_df[\"State\"].unique()"
   ]
  },
  {
   "cell_type": "code",
   "execution_count": 14,
   "id": "c0561afc",
   "metadata": {},
   "outputs": [
    {
     "data": {
      "text/plain": [
       "State\n",
       "California            2001\n",
       "England               1499\n",
       "New York              1128\n",
       "Texas                  985\n",
       "Ile-de-France          981\n",
       "                      ... \n",
       "Lambayeque               1\n",
       "Aveiro                   1\n",
       "Lima                     1\n",
       "Medea                    1\n",
       "Matabeleland North       1\n",
       "Name: count, Length: 1094, dtype: int64"
      ]
     },
     "execution_count": 14,
     "metadata": {},
     "output_type": "execute_result"
    }
   ],
   "source": [
    "orders_df[\"State\"].value_counts()"
   ]
  },
  {
   "cell_type": "code",
   "execution_count": 15,
   "id": "a3bde8e7",
   "metadata": {},
   "outputs": [
    {
     "data": {
      "text/plain": [
       "array(['United States', 'Australia', 'Germany', 'Senegal', 'New Zealand',\n",
       "       'Afghanistan', 'Saudi Arabia', 'Brazil', 'China', 'France',\n",
       "       'Italy', 'Tanzania', 'Poland', 'United Kingdom', 'Mexico',\n",
       "       'El Salvador', 'Taiwan', 'India', 'Dominican Republic',\n",
       "       'Democratic Republic of the Congo', 'Indonesia', 'Uruguay', 'Iran',\n",
       "       'Mozambique', 'Bangladesh', 'Spain', 'Ukraine', 'Nicaragua',\n",
       "       'Morocco', 'Canada', 'Philippines', 'Austria', 'Colombia',\n",
       "       'Netherlands', 'Malaysia', 'Ecuador', 'Thailand', 'Somalia',\n",
       "       'Guatemala', 'Belarus', 'Cambodia', 'South Africa', 'Japan',\n",
       "       'Russia', 'Egypt', 'Azerbaijan', 'Lithuania', 'Argentina',\n",
       "       'Lesotho', 'Vietnam', 'Cuba', 'Romania', 'Turkey', 'Cameroon',\n",
       "       'Hungary', 'Singapore', 'Angola', 'Belgium', 'Pakistan', 'Finland',\n",
       "       'Ghana', 'Zambia', 'Iraq', 'Liberia', 'Georgia', 'Switzerland',\n",
       "       'Albania', 'Chad', 'Montenegro', 'Namibia', 'Portugal',\n",
       "       'Madagascar', 'Sweden', 'Myanmar (Burma)', 'Jamaica', 'Qatar',\n",
       "       'Republic of the Congo', 'Norway', 'Algeria', 'South Korea',\n",
       "       'Nigeria', 'Estonia', \"Cote d'Ivoire\", 'Honduras', 'Paraguay',\n",
       "       'Czech Republic', 'Central African Republic', 'Benin', 'Bolivia',\n",
       "       'Chile', 'Martinique', 'Syria', 'Lebanon', 'Kenya', 'Mali',\n",
       "       'Libya', 'Venezuela', 'Trinidad and Tobago', 'Ireland', 'Bulgaria',\n",
       "       'Panama', 'Israel', 'Haiti', 'Barbados', 'Slovenia', 'Togo',\n",
       "       'Mauritania', 'Guinea', 'Rwanda', 'Denmark', 'Niger',\n",
       "       'Papua New Guinea', 'Mongolia', 'Sudan', 'Peru', 'Sierra Leone',\n",
       "       'Bosnia and Herzegovina', 'Guinea-Bissau', 'Djibouti', 'Tunisia',\n",
       "       'Croatia', 'Hong Kong', 'Nepal', 'Guadeloupe', 'Kyrgyzstan',\n",
       "       'Zimbabwe', 'Uzbekistan', 'South Sudan', 'Gabon', 'Bahrain',\n",
       "       'Yemen', 'Jordan', 'United Arab Emirates', 'Moldova', 'Swaziland',\n",
       "       'Turkmenistan', 'Kazakhstan', 'Ethiopia', 'Uganda', 'Slovakia',\n",
       "       'Sri Lanka', 'Tajikistan', 'Burundi', 'Macedonia', 'Eritrea',\n",
       "       'Equatorial Guinea', 'Armenia'], dtype=object)"
      ]
     },
     "execution_count": 15,
     "metadata": {},
     "output_type": "execute_result"
    }
   ],
   "source": [
    "orders_df[\"Country\"].unique()"
   ]
  },
  {
   "cell_type": "code",
   "execution_count": 16,
   "id": "924089c0",
   "metadata": {},
   "outputs": [
    {
     "data": {
      "text/plain": [
       "array(['US', 'APAC', 'EU', 'Africa', 'EMEA', 'LATAM', 'Canada'],\n",
       "      dtype=object)"
      ]
     },
     "execution_count": 16,
     "metadata": {},
     "output_type": "execute_result"
    }
   ],
   "source": [
    "orders_df[\"Market\"].unique()"
   ]
  },
  {
   "cell_type": "code",
   "execution_count": 17,
   "id": "4ad814c6",
   "metadata": {},
   "outputs": [
    {
     "data": {
      "text/plain": [
       "Market\n",
       "APAC      11002\n",
       "LATAM     10294\n",
       "EU        10000\n",
       "US         9994\n",
       "EMEA       5029\n",
       "Africa     4587\n",
       "Canada      384\n",
       "Name: count, dtype: int64"
      ]
     },
     "execution_count": 17,
     "metadata": {},
     "output_type": "execute_result"
    }
   ],
   "source": [
    "orders_df[\"Market\"].value_counts()"
   ]
  },
  {
   "cell_type": "code",
   "execution_count": 18,
   "id": "e909770c",
   "metadata": {},
   "outputs": [
    {
     "data": {
      "text/plain": [
       "array(['East', 'Oceania', 'Central', 'Africa', 'West', 'South',\n",
       "       'Central Asia', 'EMEA', 'North Asia', 'North', 'Caribbean',\n",
       "       'Southeast Asia', 'Canada'], dtype=object)"
      ]
     },
     "execution_count": 18,
     "metadata": {},
     "output_type": "execute_result"
    }
   ],
   "source": [
    "orders_df[\"Region\"].unique()"
   ]
  },
  {
   "cell_type": "code",
   "execution_count": 19,
   "id": "27bbd62d",
   "metadata": {},
   "outputs": [
    {
     "data": {
      "text/plain": [
       "Region\n",
       "Central           11117\n",
       "South              6645\n",
       "EMEA               5029\n",
       "North              4785\n",
       "Africa             4587\n",
       "Oceania            3487\n",
       "West               3203\n",
       "Southeast Asia     3129\n",
       "East               2848\n",
       "North Asia         2338\n",
       "Central Asia       2048\n",
       "Caribbean          1690\n",
       "Canada              384\n",
       "Name: count, dtype: int64"
      ]
     },
     "execution_count": 19,
     "metadata": {},
     "output_type": "execute_result"
    }
   ],
   "source": [
    "orders_df[\"Region\"].value_counts()"
   ]
  },
  {
   "cell_type": "code",
   "execution_count": 20,
   "id": "05af6ffb",
   "metadata": {},
   "outputs": [
    {
     "data": {
      "text/plain": [
       "array(['Technology', 'Furniture', 'Office Supplies'], dtype=object)"
      ]
     },
     "execution_count": 20,
     "metadata": {},
     "output_type": "execute_result"
    }
   ],
   "source": [
    "orders_df[\"Category\"].unique()"
   ]
  },
  {
   "cell_type": "code",
   "execution_count": 21,
   "id": "065eedb6",
   "metadata": {},
   "outputs": [
    {
     "data": {
      "text/plain": [
       "Category\n",
       "Office Supplies    31273\n",
       "Technology         10141\n",
       "Furniture           9876\n",
       "Name: count, dtype: int64"
      ]
     },
     "execution_count": 21,
     "metadata": {},
     "output_type": "execute_result"
    }
   ],
   "source": [
    "orders_df[\"Category\"].value_counts()"
   ]
  },
  {
   "cell_type": "code",
   "execution_count": 22,
   "id": "a2633968",
   "metadata": {},
   "outputs": [
    {
     "data": {
      "text/plain": [
       "array(['Accessories', 'Chairs', 'Phones', 'Copiers', 'Tables', 'Binders',\n",
       "       'Supplies', 'Appliances', 'Machines', 'Bookcases', 'Storage',\n",
       "       'Furnishings', 'Art', 'Paper', 'Envelopes', 'Fasteners', 'Labels'],\n",
       "      dtype=object)"
      ]
     },
     "execution_count": 22,
     "metadata": {},
     "output_type": "execute_result"
    }
   ],
   "source": [
    "orders_df[\"Sub-Category\"].unique()"
   ]
  },
  {
   "cell_type": "code",
   "execution_count": 23,
   "id": "8b516eeb",
   "metadata": {},
   "outputs": [
    {
     "data": {
      "text/plain": [
       "Sub-Category\n",
       "Binders        6152\n",
       "Storage        5059\n",
       "Art            4883\n",
       "Paper          3538\n",
       "Chairs         3434\n",
       "Phones         3357\n",
       "Furnishings    3170\n",
       "Accessories    3075\n",
       "Labels         2606\n",
       "Envelopes      2435\n",
       "Supplies       2425\n",
       "Fasteners      2420\n",
       "Bookcases      2411\n",
       "Copiers        2223\n",
       "Appliances     1755\n",
       "Machines       1486\n",
       "Tables          861\n",
       "Name: count, dtype: int64"
      ]
     },
     "execution_count": 23,
     "metadata": {},
     "output_type": "execute_result"
    }
   ],
   "source": [
    "orders_df[\"Sub-Category\"].value_counts()"
   ]
  },
  {
   "cell_type": "markdown",
   "id": "d6aea68e",
   "metadata": {},
   "source": [
    "# Returns sheet"
   ]
  },
  {
   "cell_type": "code",
   "execution_count": 24,
   "id": "0e7c273a",
   "metadata": {},
   "outputs": [
    {
     "data": {
      "text/html": [
       "<div>\n",
       "<style scoped>\n",
       "    .dataframe tbody tr th:only-of-type {\n",
       "        vertical-align: middle;\n",
       "    }\n",
       "\n",
       "    .dataframe tbody tr th {\n",
       "        vertical-align: top;\n",
       "    }\n",
       "\n",
       "    .dataframe thead th {\n",
       "        text-align: right;\n",
       "    }\n",
       "</style>\n",
       "<table border=\"1\" class=\"dataframe\">\n",
       "  <thead>\n",
       "    <tr style=\"text-align: right;\">\n",
       "      <th></th>\n",
       "      <th>Returned</th>\n",
       "      <th>Order ID</th>\n",
       "      <th>Market</th>\n",
       "    </tr>\n",
       "  </thead>\n",
       "  <tbody>\n",
       "    <tr>\n",
       "      <th>0</th>\n",
       "      <td>Yes</td>\n",
       "      <td>MX-2013-168137</td>\n",
       "      <td>LATAM</td>\n",
       "    </tr>\n",
       "    <tr>\n",
       "      <th>1</th>\n",
       "      <td>Yes</td>\n",
       "      <td>US-2011-165316</td>\n",
       "      <td>LATAM</td>\n",
       "    </tr>\n",
       "    <tr>\n",
       "      <th>2</th>\n",
       "      <td>Yes</td>\n",
       "      <td>ES-2013-1525878</td>\n",
       "      <td>EU</td>\n",
       "    </tr>\n",
       "    <tr>\n",
       "      <th>3</th>\n",
       "      <td>Yes</td>\n",
       "      <td>CA-2013-118311</td>\n",
       "      <td>United States</td>\n",
       "    </tr>\n",
       "    <tr>\n",
       "      <th>4</th>\n",
       "      <td>Yes</td>\n",
       "      <td>ES-2011-1276768</td>\n",
       "      <td>EU</td>\n",
       "    </tr>\n",
       "  </tbody>\n",
       "</table>\n",
       "</div>"
      ],
      "text/plain": [
       "  Returned         Order ID         Market\n",
       "0      Yes   MX-2013-168137          LATAM\n",
       "1      Yes   US-2011-165316          LATAM\n",
       "2      Yes  ES-2013-1525878             EU\n",
       "3      Yes   CA-2013-118311  United States\n",
       "4      Yes  ES-2011-1276768             EU"
      ]
     },
     "execution_count": 24,
     "metadata": {},
     "output_type": "execute_result"
    }
   ],
   "source": [
    "returns_df.head()"
   ]
  },
  {
   "cell_type": "code",
   "execution_count": 25,
   "id": "f361239c",
   "metadata": {},
   "outputs": [
    {
     "name": "stdout",
     "output_type": "stream",
     "text": [
      "<class 'pandas.core.frame.DataFrame'>\n",
      "RangeIndex: 1173 entries, 0 to 1172\n",
      "Data columns (total 3 columns):\n",
      " #   Column    Non-Null Count  Dtype \n",
      "---  ------    --------------  ----- \n",
      " 0   Returned  1173 non-null   object\n",
      " 1   Order ID  1173 non-null   object\n",
      " 2   Market    1173 non-null   object\n",
      "dtypes: object(3)\n",
      "memory usage: 27.6+ KB\n"
     ]
    }
   ],
   "source": [
    "returns_df.info()"
   ]
  },
  {
   "cell_type": "code",
   "execution_count": 26,
   "id": "b4e2b867",
   "metadata": {},
   "outputs": [
    {
     "data": {
      "text/plain": [
       "Returned\n",
       "Yes    1173\n",
       "Name: count, dtype: int64"
      ]
     },
     "execution_count": 26,
     "metadata": {},
     "output_type": "execute_result"
    }
   ],
   "source": [
    "returns_df[\"Returned\"].value_counts()"
   ]
  },
  {
   "cell_type": "code",
   "execution_count": 27,
   "id": "90e96db2",
   "metadata": {},
   "outputs": [
    {
     "data": {
      "text/plain": [
       "Market\n",
       "LATAM            297\n",
       "United States    296\n",
       "APAC             296\n",
       "EU               284\n",
       "Name: count, dtype: int64"
      ]
     },
     "execution_count": 27,
     "metadata": {},
     "output_type": "execute_result"
    }
   ],
   "source": [
    "returns_df[\"Market\"].value_counts()"
   ]
  },
  {
   "cell_type": "markdown",
   "id": "0ba3e4c8",
   "metadata": {},
   "source": [
    "# Extracting the Products Data from Fakestore API"
   ]
  },
  {
   "cell_type": "code",
   "execution_count": 28,
   "id": "b8c3c100",
   "metadata": {},
   "outputs": [],
   "source": [
    "def get_products():\n",
    "    url = 'https://fakestoreapi.com/products'\n",
    "    response = requests.get(url)\n",
    "    return response.json()"
   ]
  },
  {
   "cell_type": "code",
   "execution_count": 29,
   "id": "e707ae99",
   "metadata": {},
   "outputs": [
    {
     "data": {
      "text/html": [
       "<div>\n",
       "<style scoped>\n",
       "    .dataframe tbody tr th:only-of-type {\n",
       "        vertical-align: middle;\n",
       "    }\n",
       "\n",
       "    .dataframe tbody tr th {\n",
       "        vertical-align: top;\n",
       "    }\n",
       "\n",
       "    .dataframe thead th {\n",
       "        text-align: right;\n",
       "    }\n",
       "</style>\n",
       "<table border=\"1\" class=\"dataframe\">\n",
       "  <thead>\n",
       "    <tr style=\"text-align: right;\">\n",
       "      <th></th>\n",
       "      <th>id</th>\n",
       "      <th>title</th>\n",
       "      <th>price</th>\n",
       "      <th>description</th>\n",
       "      <th>category</th>\n",
       "      <th>image</th>\n",
       "      <th>rating</th>\n",
       "    </tr>\n",
       "  </thead>\n",
       "  <tbody>\n",
       "    <tr>\n",
       "      <th>0</th>\n",
       "      <td>1</td>\n",
       "      <td>Fjallraven - Foldsack No. 1 Backpack, Fits 15 ...</td>\n",
       "      <td>109.95</td>\n",
       "      <td>Your perfect pack for everyday use and walks i...</td>\n",
       "      <td>men's clothing</td>\n",
       "      <td>https://fakestoreapi.com/img/81fPKd-2AYL._AC_S...</td>\n",
       "      <td>{'rate': 3.9, 'count': 120}</td>\n",
       "    </tr>\n",
       "    <tr>\n",
       "      <th>1</th>\n",
       "      <td>2</td>\n",
       "      <td>Mens Casual Premium Slim Fit T-Shirts</td>\n",
       "      <td>22.30</td>\n",
       "      <td>Slim-fitting style, contrast raglan long sleev...</td>\n",
       "      <td>men's clothing</td>\n",
       "      <td>https://fakestoreapi.com/img/71-3HjGNDUL._AC_S...</td>\n",
       "      <td>{'rate': 4.1, 'count': 259}</td>\n",
       "    </tr>\n",
       "    <tr>\n",
       "      <th>2</th>\n",
       "      <td>3</td>\n",
       "      <td>Mens Cotton Jacket</td>\n",
       "      <td>55.99</td>\n",
       "      <td>great outerwear jackets for Spring/Autumn/Wint...</td>\n",
       "      <td>men's clothing</td>\n",
       "      <td>https://fakestoreapi.com/img/71li-ujtlUL._AC_U...</td>\n",
       "      <td>{'rate': 4.7, 'count': 500}</td>\n",
       "    </tr>\n",
       "    <tr>\n",
       "      <th>3</th>\n",
       "      <td>4</td>\n",
       "      <td>Mens Casual Slim Fit</td>\n",
       "      <td>15.99</td>\n",
       "      <td>The color could be slightly different between ...</td>\n",
       "      <td>men's clothing</td>\n",
       "      <td>https://fakestoreapi.com/img/71YXzeOuslL._AC_U...</td>\n",
       "      <td>{'rate': 2.1, 'count': 430}</td>\n",
       "    </tr>\n",
       "    <tr>\n",
       "      <th>4</th>\n",
       "      <td>5</td>\n",
       "      <td>John Hardy Women's Legends Naga Gold &amp; Silver ...</td>\n",
       "      <td>695.00</td>\n",
       "      <td>From our Legends Collection, the Naga was insp...</td>\n",
       "      <td>jewelery</td>\n",
       "      <td>https://fakestoreapi.com/img/71pWzhdJNwL._AC_U...</td>\n",
       "      <td>{'rate': 4.6, 'count': 400}</td>\n",
       "    </tr>\n",
       "  </tbody>\n",
       "</table>\n",
       "</div>"
      ],
      "text/plain": [
       "   id                                              title   price  \\\n",
       "0   1  Fjallraven - Foldsack No. 1 Backpack, Fits 15 ...  109.95   \n",
       "1   2             Mens Casual Premium Slim Fit T-Shirts    22.30   \n",
       "2   3                                 Mens Cotton Jacket   55.99   \n",
       "3   4                               Mens Casual Slim Fit   15.99   \n",
       "4   5  John Hardy Women's Legends Naga Gold & Silver ...  695.00   \n",
       "\n",
       "                                         description        category  \\\n",
       "0  Your perfect pack for everyday use and walks i...  men's clothing   \n",
       "1  Slim-fitting style, contrast raglan long sleev...  men's clothing   \n",
       "2  great outerwear jackets for Spring/Autumn/Wint...  men's clothing   \n",
       "3  The color could be slightly different between ...  men's clothing   \n",
       "4  From our Legends Collection, the Naga was insp...        jewelery   \n",
       "\n",
       "                                               image  \\\n",
       "0  https://fakestoreapi.com/img/81fPKd-2AYL._AC_S...   \n",
       "1  https://fakestoreapi.com/img/71-3HjGNDUL._AC_S...   \n",
       "2  https://fakestoreapi.com/img/71li-ujtlUL._AC_U...   \n",
       "3  https://fakestoreapi.com/img/71YXzeOuslL._AC_U...   \n",
       "4  https://fakestoreapi.com/img/71pWzhdJNwL._AC_U...   \n",
       "\n",
       "                        rating  \n",
       "0  {'rate': 3.9, 'count': 120}  \n",
       "1  {'rate': 4.1, 'count': 259}  \n",
       "2  {'rate': 4.7, 'count': 500}  \n",
       "3  {'rate': 2.1, 'count': 430}  \n",
       "4  {'rate': 4.6, 'count': 400}  "
      ]
     },
     "execution_count": 29,
     "metadata": {},
     "output_type": "execute_result"
    }
   ],
   "source": [
    "products = get_products()\n",
    "products_df = pd.DataFrame(products)\n",
    "products_df.head()"
   ]
  },
  {
   "cell_type": "code",
   "execution_count": 30,
   "id": "d7aec46f",
   "metadata": {},
   "outputs": [
    {
     "data": {
      "text/html": [
       "<div>\n",
       "<style scoped>\n",
       "    .dataframe tbody tr th:only-of-type {\n",
       "        vertical-align: middle;\n",
       "    }\n",
       "\n",
       "    .dataframe tbody tr th {\n",
       "        vertical-align: top;\n",
       "    }\n",
       "\n",
       "    .dataframe thead th {\n",
       "        text-align: right;\n",
       "    }\n",
       "</style>\n",
       "<table border=\"1\" class=\"dataframe\">\n",
       "  <thead>\n",
       "    <tr style=\"text-align: right;\">\n",
       "      <th></th>\n",
       "      <th>product_id</th>\n",
       "      <th>product_name</th>\n",
       "      <th>price</th>\n",
       "      <th>description</th>\n",
       "      <th>category</th>\n",
       "      <th>image</th>\n",
       "      <th>rating</th>\n",
       "    </tr>\n",
       "  </thead>\n",
       "  <tbody>\n",
       "    <tr>\n",
       "      <th>0</th>\n",
       "      <td>1</td>\n",
       "      <td>Fjallraven - Foldsack No. 1 Backpack, Fits 15 ...</td>\n",
       "      <td>109.95</td>\n",
       "      <td>Your perfect pack for everyday use and walks i...</td>\n",
       "      <td>men's clothing</td>\n",
       "      <td>https://fakestoreapi.com/img/81fPKd-2AYL._AC_S...</td>\n",
       "      <td>{'rate': 3.9, 'count': 120}</td>\n",
       "    </tr>\n",
       "    <tr>\n",
       "      <th>1</th>\n",
       "      <td>2</td>\n",
       "      <td>Mens Casual Premium Slim Fit T-Shirts</td>\n",
       "      <td>22.30</td>\n",
       "      <td>Slim-fitting style, contrast raglan long sleev...</td>\n",
       "      <td>men's clothing</td>\n",
       "      <td>https://fakestoreapi.com/img/71-3HjGNDUL._AC_S...</td>\n",
       "      <td>{'rate': 4.1, 'count': 259}</td>\n",
       "    </tr>\n",
       "    <tr>\n",
       "      <th>2</th>\n",
       "      <td>3</td>\n",
       "      <td>Mens Cotton Jacket</td>\n",
       "      <td>55.99</td>\n",
       "      <td>great outerwear jackets for Spring/Autumn/Wint...</td>\n",
       "      <td>men's clothing</td>\n",
       "      <td>https://fakestoreapi.com/img/71li-ujtlUL._AC_U...</td>\n",
       "      <td>{'rate': 4.7, 'count': 500}</td>\n",
       "    </tr>\n",
       "    <tr>\n",
       "      <th>3</th>\n",
       "      <td>4</td>\n",
       "      <td>Mens Casual Slim Fit</td>\n",
       "      <td>15.99</td>\n",
       "      <td>The color could be slightly different between ...</td>\n",
       "      <td>men's clothing</td>\n",
       "      <td>https://fakestoreapi.com/img/71YXzeOuslL._AC_U...</td>\n",
       "      <td>{'rate': 2.1, 'count': 430}</td>\n",
       "    </tr>\n",
       "    <tr>\n",
       "      <th>4</th>\n",
       "      <td>5</td>\n",
       "      <td>John Hardy Women's Legends Naga Gold &amp; Silver ...</td>\n",
       "      <td>695.00</td>\n",
       "      <td>From our Legends Collection, the Naga was insp...</td>\n",
       "      <td>jewelery</td>\n",
       "      <td>https://fakestoreapi.com/img/71pWzhdJNwL._AC_U...</td>\n",
       "      <td>{'rate': 4.6, 'count': 400}</td>\n",
       "    </tr>\n",
       "  </tbody>\n",
       "</table>\n",
       "</div>"
      ],
      "text/plain": [
       "   product_id                                       product_name   price  \\\n",
       "0           1  Fjallraven - Foldsack No. 1 Backpack, Fits 15 ...  109.95   \n",
       "1           2             Mens Casual Premium Slim Fit T-Shirts    22.30   \n",
       "2           3                                 Mens Cotton Jacket   55.99   \n",
       "3           4                               Mens Casual Slim Fit   15.99   \n",
       "4           5  John Hardy Women's Legends Naga Gold & Silver ...  695.00   \n",
       "\n",
       "                                         description        category  \\\n",
       "0  Your perfect pack for everyday use and walks i...  men's clothing   \n",
       "1  Slim-fitting style, contrast raglan long sleev...  men's clothing   \n",
       "2  great outerwear jackets for Spring/Autumn/Wint...  men's clothing   \n",
       "3  The color could be slightly different between ...  men's clothing   \n",
       "4  From our Legends Collection, the Naga was insp...        jewelery   \n",
       "\n",
       "                                               image  \\\n",
       "0  https://fakestoreapi.com/img/81fPKd-2AYL._AC_S...   \n",
       "1  https://fakestoreapi.com/img/71-3HjGNDUL._AC_S...   \n",
       "2  https://fakestoreapi.com/img/71li-ujtlUL._AC_U...   \n",
       "3  https://fakestoreapi.com/img/71YXzeOuslL._AC_U...   \n",
       "4  https://fakestoreapi.com/img/71pWzhdJNwL._AC_U...   \n",
       "\n",
       "                        rating  \n",
       "0  {'rate': 3.9, 'count': 120}  \n",
       "1  {'rate': 4.1, 'count': 259}  \n",
       "2  {'rate': 4.7, 'count': 500}  \n",
       "3  {'rate': 2.1, 'count': 430}  \n",
       "4  {'rate': 4.6, 'count': 400}  "
      ]
     },
     "execution_count": 30,
     "metadata": {},
     "output_type": "execute_result"
    }
   ],
   "source": [
    "# Changing the columns name \n",
    "\n",
    "products_df = products_df.rename(columns={'id': 'product_id', 'title': 'product_name'})\n",
    "\n",
    "products_df.head()\n"
   ]
  },
  {
   "cell_type": "markdown",
   "id": "f16089b9",
   "metadata": {},
   "source": [
    "# Exploaring the Products Data"
   ]
  },
  {
   "cell_type": "code",
   "execution_count": 31,
   "id": "e7167ae1",
   "metadata": {},
   "outputs": [
    {
     "name": "stdout",
     "output_type": "stream",
     "text": [
      "<class 'pandas.core.frame.DataFrame'>\n",
      "RangeIndex: 20 entries, 0 to 19\n",
      "Data columns (total 7 columns):\n",
      " #   Column        Non-Null Count  Dtype  \n",
      "---  ------        --------------  -----  \n",
      " 0   product_id    20 non-null     int64  \n",
      " 1   product_name  20 non-null     object \n",
      " 2   price         20 non-null     float64\n",
      " 3   description   20 non-null     object \n",
      " 4   category      20 non-null     object \n",
      " 5   image         20 non-null     object \n",
      " 6   rating        20 non-null     object \n",
      "dtypes: float64(1), int64(1), object(5)\n",
      "memory usage: 1.2+ KB\n"
     ]
    }
   ],
   "source": [
    "products_df.info()"
   ]
  },
  {
   "cell_type": "code",
   "execution_count": 32,
   "id": "cc08a025",
   "metadata": {},
   "outputs": [
    {
     "data": {
      "text/plain": [
       "array(['Fjallraven - Foldsack No. 1 Backpack, Fits 15 Laptops',\n",
       "       'Mens Casual Premium Slim Fit T-Shirts ', 'Mens Cotton Jacket',\n",
       "       'Mens Casual Slim Fit',\n",
       "       \"John Hardy Women's Legends Naga Gold & Silver Dragon Station Chain Bracelet\",\n",
       "       'Solid Gold Petite Micropave ', 'White Gold Plated Princess',\n",
       "       'Pierced Owl Rose Gold Plated Stainless Steel Double',\n",
       "       'WD 2TB Elements Portable External Hard Drive - USB 3.0 ',\n",
       "       'SanDisk SSD PLUS 1TB Internal SSD - SATA III 6 Gb/s',\n",
       "       'Silicon Power 256GB SSD 3D NAND A55 SLC Cache Performance Boost SATA III 2.5',\n",
       "       'WD 4TB Gaming Drive Works with Playstation 4 Portable External Hard Drive',\n",
       "       'Acer SB220Q bi 21.5 inches Full HD (1920 x 1080) IPS Ultra-Thin',\n",
       "       'Samsung 49-Inch CHG90 144Hz Curved Gaming Monitor (LC49HG90DMNXZA) – Super Ultrawide Screen QLED ',\n",
       "       \"BIYLACLESEN Women's 3-in-1 Snowboard Jacket Winter Coats\",\n",
       "       \"Lock and Love Women's Removable Hooded Faux Leather Moto Biker Jacket\",\n",
       "       'Rain Jacket Women Windbreaker Striped Climbing Raincoats',\n",
       "       \"MBJ Women's Solid Short Sleeve Boat Neck V \",\n",
       "       \"Opna Women's Short Sleeve Moisture\",\n",
       "       'DANVOUY Womens T Shirt Casual Cotton Short'], dtype=object)"
      ]
     },
     "execution_count": 32,
     "metadata": {},
     "output_type": "execute_result"
    }
   ],
   "source": [
    "products_df[\"product_name\"].unique()"
   ]
  },
  {
   "cell_type": "code",
   "execution_count": 33,
   "id": "f06508ad",
   "metadata": {},
   "outputs": [
    {
     "data": {
      "text/plain": [
       "array([\"men's clothing\", 'jewelery', 'electronics', \"women's clothing\"],\n",
       "      dtype=object)"
      ]
     },
     "execution_count": 33,
     "metadata": {},
     "output_type": "execute_result"
    }
   ],
   "source": [
    "products_df[\"category\"].unique()"
   ]
  },
  {
   "cell_type": "code",
   "execution_count": 34,
   "id": "d232e3cd",
   "metadata": {},
   "outputs": [
    {
     "data": {
      "text/plain": [
       "category\n",
       "electronics         6\n",
       "women's clothing    6\n",
       "men's clothing      4\n",
       "jewelery            4\n",
       "Name: count, dtype: int64"
      ]
     },
     "execution_count": 34,
     "metadata": {},
     "output_type": "execute_result"
    }
   ],
   "source": [
    "products_df[\"category\"].value_counts()"
   ]
  },
  {
   "cell_type": "code",
   "execution_count": 35,
   "id": "bc7c39a2",
   "metadata": {},
   "outputs": [
    {
     "data": {
      "text/plain": [
       "0     {'rate': 3.9, 'count': 120}\n",
       "1     {'rate': 4.1, 'count': 259}\n",
       "2     {'rate': 4.7, 'count': 500}\n",
       "3     {'rate': 2.1, 'count': 430}\n",
       "4     {'rate': 4.6, 'count': 400}\n",
       "5      {'rate': 3.9, 'count': 70}\n",
       "6       {'rate': 3, 'count': 400}\n",
       "7     {'rate': 1.9, 'count': 100}\n",
       "8     {'rate': 3.3, 'count': 203}\n",
       "9     {'rate': 2.9, 'count': 470}\n",
       "10    {'rate': 4.8, 'count': 319}\n",
       "11    {'rate': 4.8, 'count': 400}\n",
       "12    {'rate': 2.9, 'count': 250}\n",
       "13    {'rate': 2.2, 'count': 140}\n",
       "14    {'rate': 2.6, 'count': 235}\n",
       "15    {'rate': 2.9, 'count': 340}\n",
       "16    {'rate': 3.8, 'count': 679}\n",
       "17    {'rate': 4.7, 'count': 130}\n",
       "18    {'rate': 4.5, 'count': 146}\n",
       "19    {'rate': 3.6, 'count': 145}\n",
       "Name: rating, dtype: object"
      ]
     },
     "execution_count": 35,
     "metadata": {},
     "output_type": "execute_result"
    }
   ],
   "source": [
    "products_df[\"rating\"]"
   ]
  },
  {
   "cell_type": "code",
   "execution_count": 36,
   "id": "e80378e0",
   "metadata": {},
   "outputs": [
    {
     "data": {
      "text/plain": [
       "count     20.000000\n",
       "mean     162.046000\n",
       "std      272.220532\n",
       "min        7.950000\n",
       "25%       15.240000\n",
       "50%       56.490000\n",
       "75%      110.962500\n",
       "max      999.990000\n",
       "Name: price, dtype: float64"
      ]
     },
     "execution_count": 36,
     "metadata": {},
     "output_type": "execute_result"
    }
   ],
   "source": [
    "products_df[\"price\"].describe()"
   ]
  },
  {
   "cell_type": "markdown",
   "id": "9c48c3d9",
   "metadata": {},
   "source": [
    "# Simulate Inventory Levels"
   ]
  },
  {
   "cell_type": "code",
   "execution_count": 37,
   "id": "8171ec50",
   "metadata": {},
   "outputs": [],
   "source": [
    "\n",
    "def simulate_inventory(products, days=30):\n",
    "    inventory_history = []\n",
    "    start_date = datetime.datetime.now() - datetime.timedelta(days=days)\n",
    "\n",
    "    for product in products:\n",
    "        \n",
    "        # Initial inventory level\n",
    "        \n",
    "        base_inventory = random.randint(20, 200)\n",
    "        daily_demand = random.randint(1, 10)\n",
    "\n",
    "        for day in range(days):\n",
    "            current_date = start_date + datetime.timedelta(days=day)\n",
    "            \n",
    "            # Simulate inventory reduction\n",
    "            \n",
    "            daily_sales = min(random.randint(0, daily_demand), base_inventory)\n",
    "            base_inventory -= daily_sales\n",
    "            \n",
    "            \n",
    "            # Simulate restocking every 7 days\n",
    "\n",
    "            if day % 7 == 0:\n",
    "                restock_amount = random.randint(30, 100)\n",
    "                base_inventory += restock_amount\n",
    "\n",
    "            inventory_history.append({\n",
    "                'product_id': product['id'],\n",
    "                'product_name': product['title'],\n",
    "                'date': current_date.strftime('%Y-%m-%d'),\n",
    "                'inventory_level': base_inventory,\n",
    "                'category': product['category'],\n",
    "                'price': product['price'],\n",
    "                'restock': 1 if day % 7 == 0 else 0\n",
    "            })\n",
    "\n",
    "    return pd.DataFrame(inventory_history)\n"
   ]
  },
  {
   "cell_type": "code",
   "execution_count": 38,
   "id": "d1320501",
   "metadata": {},
   "outputs": [
    {
     "data": {
      "text/html": [
       "<div>\n",
       "<style scoped>\n",
       "    .dataframe tbody tr th:only-of-type {\n",
       "        vertical-align: middle;\n",
       "    }\n",
       "\n",
       "    .dataframe tbody tr th {\n",
       "        vertical-align: top;\n",
       "    }\n",
       "\n",
       "    .dataframe thead th {\n",
       "        text-align: right;\n",
       "    }\n",
       "</style>\n",
       "<table border=\"1\" class=\"dataframe\">\n",
       "  <thead>\n",
       "    <tr style=\"text-align: right;\">\n",
       "      <th></th>\n",
       "      <th>product_id</th>\n",
       "      <th>product_name</th>\n",
       "      <th>date</th>\n",
       "      <th>inventory_level</th>\n",
       "      <th>category</th>\n",
       "      <th>price</th>\n",
       "      <th>restock</th>\n",
       "    </tr>\n",
       "  </thead>\n",
       "  <tbody>\n",
       "    <tr>\n",
       "      <th>0</th>\n",
       "      <td>1</td>\n",
       "      <td>Fjallraven - Foldsack No. 1 Backpack, Fits 15 ...</td>\n",
       "      <td>2025-07-04</td>\n",
       "      <td>255</td>\n",
       "      <td>men's clothing</td>\n",
       "      <td>109.95</td>\n",
       "      <td>1</td>\n",
       "    </tr>\n",
       "    <tr>\n",
       "      <th>1</th>\n",
       "      <td>1</td>\n",
       "      <td>Fjallraven - Foldsack No. 1 Backpack, Fits 15 ...</td>\n",
       "      <td>2025-07-05</td>\n",
       "      <td>253</td>\n",
       "      <td>men's clothing</td>\n",
       "      <td>109.95</td>\n",
       "      <td>0</td>\n",
       "    </tr>\n",
       "    <tr>\n",
       "      <th>2</th>\n",
       "      <td>1</td>\n",
       "      <td>Fjallraven - Foldsack No. 1 Backpack, Fits 15 ...</td>\n",
       "      <td>2025-07-06</td>\n",
       "      <td>252</td>\n",
       "      <td>men's clothing</td>\n",
       "      <td>109.95</td>\n",
       "      <td>0</td>\n",
       "    </tr>\n",
       "    <tr>\n",
       "      <th>3</th>\n",
       "      <td>1</td>\n",
       "      <td>Fjallraven - Foldsack No. 1 Backpack, Fits 15 ...</td>\n",
       "      <td>2025-07-07</td>\n",
       "      <td>250</td>\n",
       "      <td>men's clothing</td>\n",
       "      <td>109.95</td>\n",
       "      <td>0</td>\n",
       "    </tr>\n",
       "    <tr>\n",
       "      <th>4</th>\n",
       "      <td>1</td>\n",
       "      <td>Fjallraven - Foldsack No. 1 Backpack, Fits 15 ...</td>\n",
       "      <td>2025-07-08</td>\n",
       "      <td>250</td>\n",
       "      <td>men's clothing</td>\n",
       "      <td>109.95</td>\n",
       "      <td>0</td>\n",
       "    </tr>\n",
       "  </tbody>\n",
       "</table>\n",
       "</div>"
      ],
      "text/plain": [
       "   product_id                                       product_name        date  \\\n",
       "0           1  Fjallraven - Foldsack No. 1 Backpack, Fits 15 ...  2025-07-04   \n",
       "1           1  Fjallraven - Foldsack No. 1 Backpack, Fits 15 ...  2025-07-05   \n",
       "2           1  Fjallraven - Foldsack No. 1 Backpack, Fits 15 ...  2025-07-06   \n",
       "3           1  Fjallraven - Foldsack No. 1 Backpack, Fits 15 ...  2025-07-07   \n",
       "4           1  Fjallraven - Foldsack No. 1 Backpack, Fits 15 ...  2025-07-08   \n",
       "\n",
       "   inventory_level        category   price  restock  \n",
       "0              255  men's clothing  109.95        1  \n",
       "1              253  men's clothing  109.95        0  \n",
       "2              252  men's clothing  109.95        0  \n",
       "3              250  men's clothing  109.95        0  \n",
       "4              250  men's clothing  109.95        0  "
      ]
     },
     "execution_count": 38,
     "metadata": {},
     "output_type": "execute_result"
    }
   ],
   "source": [
    "inventory_df = simulate_inventory(products)\n",
    "\n",
    "inventory_df.head()"
   ]
  },
  {
   "cell_type": "markdown",
   "id": "5f5d6ee3",
   "metadata": {},
   "source": [
    "# Exploaring the Inventory Data"
   ]
  },
  {
   "cell_type": "code",
   "execution_count": 39,
   "id": "890c043f",
   "metadata": {},
   "outputs": [
    {
     "name": "stdout",
     "output_type": "stream",
     "text": [
      "<class 'pandas.core.frame.DataFrame'>\n",
      "RangeIndex: 600 entries, 0 to 599\n",
      "Data columns (total 7 columns):\n",
      " #   Column           Non-Null Count  Dtype  \n",
      "---  ------           --------------  -----  \n",
      " 0   product_id       600 non-null    int64  \n",
      " 1   product_name     600 non-null    object \n",
      " 2   date             600 non-null    object \n",
      " 3   inventory_level  600 non-null    int64  \n",
      " 4   category         600 non-null    object \n",
      " 5   price            600 non-null    float64\n",
      " 6   restock          600 non-null    int64  \n",
      "dtypes: float64(1), int64(3), object(3)\n",
      "memory usage: 32.9+ KB\n"
     ]
    }
   ],
   "source": [
    "inventory_df.info()"
   ]
  },
  {
   "cell_type": "code",
   "execution_count": 40,
   "id": "eeb834d9",
   "metadata": {},
   "outputs": [
    {
     "data": {
      "text/plain": [
       "product_name\n",
       "Fjallraven - Foldsack No. 1 Backpack, Fits 15 Laptops                                                30\n",
       "Mens Casual Premium Slim Fit T-Shirts                                                                30\n",
       "Opna Women's Short Sleeve Moisture                                                                   30\n",
       "MBJ Women's Solid Short Sleeve Boat Neck V                                                           30\n",
       "Rain Jacket Women Windbreaker Striped Climbing Raincoats                                             30\n",
       "Lock and Love Women's Removable Hooded Faux Leather Moto Biker Jacket                                30\n",
       "BIYLACLESEN Women's 3-in-1 Snowboard Jacket Winter Coats                                             30\n",
       "Samsung 49-Inch CHG90 144Hz Curved Gaming Monitor (LC49HG90DMNXZA) – Super Ultrawide Screen QLED     30\n",
       "Acer SB220Q bi 21.5 inches Full HD (1920 x 1080) IPS Ultra-Thin                                      30\n",
       "WD 4TB Gaming Drive Works with Playstation 4 Portable External Hard Drive                            30\n",
       "Silicon Power 256GB SSD 3D NAND A55 SLC Cache Performance Boost SATA III 2.5                         30\n",
       "SanDisk SSD PLUS 1TB Internal SSD - SATA III 6 Gb/s                                                  30\n",
       "WD 2TB Elements Portable External Hard Drive - USB 3.0                                               30\n",
       "Pierced Owl Rose Gold Plated Stainless Steel Double                                                  30\n",
       "White Gold Plated Princess                                                                           30\n",
       "Solid Gold Petite Micropave                                                                          30\n",
       "John Hardy Women's Legends Naga Gold & Silver Dragon Station Chain Bracelet                          30\n",
       "Mens Casual Slim Fit                                                                                 30\n",
       "Mens Cotton Jacket                                                                                   30\n",
       "DANVOUY Womens T Shirt Casual Cotton Short                                                           30\n",
       "Name: count, dtype: int64"
      ]
     },
     "execution_count": 40,
     "metadata": {},
     "output_type": "execute_result"
    }
   ],
   "source": [
    "inventory_df[\"product_name\"].value_counts()"
   ]
  },
  {
   "cell_type": "code",
   "execution_count": 41,
   "id": "a2c3fe5a",
   "metadata": {},
   "outputs": [
    {
     "data": {
      "text/plain": [
       "count    600.000000\n",
       "mean     243.741667\n",
       "std       90.380137\n",
       "min       30.000000\n",
       "25%      179.000000\n",
       "50%      242.000000\n",
       "75%      302.250000\n",
       "max      468.000000\n",
       "Name: inventory_level, dtype: float64"
      ]
     },
     "execution_count": 41,
     "metadata": {},
     "output_type": "execute_result"
    }
   ],
   "source": [
    "inventory_df[\"inventory_level\"].describe()"
   ]
  },
  {
   "cell_type": "code",
   "execution_count": 42,
   "id": "a38857a5",
   "metadata": {},
   "outputs": [
    {
     "data": {
      "text/plain": [
       "category\n",
       "electronics         180\n",
       "women's clothing    180\n",
       "men's clothing      120\n",
       "jewelery            120\n",
       "Name: count, dtype: int64"
      ]
     },
     "execution_count": 42,
     "metadata": {},
     "output_type": "execute_result"
    }
   ],
   "source": [
    "inventory_df[\"category\"].value_counts()"
   ]
  },
  {
   "cell_type": "code",
   "execution_count": 43,
   "id": "0b95c825",
   "metadata": {},
   "outputs": [
    {
     "data": {
      "text/plain": [
       "count    600.000000\n",
       "mean     162.046000\n",
       "std      265.549137\n",
       "min        7.950000\n",
       "25%       15.240000\n",
       "50%       56.490000\n",
       "75%      110.962500\n",
       "max      999.990000\n",
       "Name: price, dtype: float64"
      ]
     },
     "execution_count": 43,
     "metadata": {},
     "output_type": "execute_result"
    }
   ],
   "source": [
    "inventory_df[\"price\"].describe()"
   ]
  },
  {
   "cell_type": "code",
   "execution_count": 44,
   "id": "f500d67a",
   "metadata": {},
   "outputs": [
    {
     "data": {
      "text/plain": [
       "restock\n",
       "0    500\n",
       "1    100\n",
       "Name: count, dtype: int64"
      ]
     },
     "execution_count": 44,
     "metadata": {},
     "output_type": "execute_result"
    }
   ],
   "source": [
    "inventory_df[\"restock\"].value_counts()"
   ]
  },
  {
   "cell_type": "markdown",
   "id": "65fce3d7",
   "metadata": {},
   "source": [
    "# Data cleaning and Transformation"
   ]
  },
  {
   "cell_type": "code",
   "execution_count": 45,
   "id": "81ac47de",
   "metadata": {},
   "outputs": [
    {
     "data": {
      "text/html": [
       "<div>\n",
       "<style scoped>\n",
       "    .dataframe tbody tr th:only-of-type {\n",
       "        vertical-align: middle;\n",
       "    }\n",
       "\n",
       "    .dataframe tbody tr th {\n",
       "        vertical-align: top;\n",
       "    }\n",
       "\n",
       "    .dataframe thead th {\n",
       "        text-align: right;\n",
       "    }\n",
       "</style>\n",
       "<table border=\"1\" class=\"dataframe\">\n",
       "  <thead>\n",
       "    <tr style=\"text-align: right;\">\n",
       "      <th></th>\n",
       "      <th>Order ID</th>\n",
       "      <th>Order Date</th>\n",
       "      <th>Ship Date</th>\n",
       "      <th>Lead Time (days)</th>\n",
       "      <th>On-time Delivery</th>\n",
       "      <th>Returned</th>\n",
       "    </tr>\n",
       "  </thead>\n",
       "  <tbody>\n",
       "    <tr>\n",
       "      <th>0</th>\n",
       "      <td>CA-2012-124891</td>\n",
       "      <td>2012-07-31</td>\n",
       "      <td>2012-07-31</td>\n",
       "      <td>0</td>\n",
       "      <td>True</td>\n",
       "      <td>False</td>\n",
       "    </tr>\n",
       "    <tr>\n",
       "      <th>1</th>\n",
       "      <td>IN-2013-77878</td>\n",
       "      <td>2013-02-05</td>\n",
       "      <td>2013-02-07</td>\n",
       "      <td>2</td>\n",
       "      <td>True</td>\n",
       "      <td>True</td>\n",
       "    </tr>\n",
       "    <tr>\n",
       "      <th>2</th>\n",
       "      <td>IN-2013-71249</td>\n",
       "      <td>2013-10-17</td>\n",
       "      <td>2013-10-18</td>\n",
       "      <td>1</td>\n",
       "      <td>True</td>\n",
       "      <td>False</td>\n",
       "    </tr>\n",
       "    <tr>\n",
       "      <th>3</th>\n",
       "      <td>ES-2013-1579342</td>\n",
       "      <td>2013-01-28</td>\n",
       "      <td>2013-01-30</td>\n",
       "      <td>2</td>\n",
       "      <td>True</td>\n",
       "      <td>False</td>\n",
       "    </tr>\n",
       "    <tr>\n",
       "      <th>4</th>\n",
       "      <td>SG-2013-4320</td>\n",
       "      <td>2013-11-05</td>\n",
       "      <td>2013-11-06</td>\n",
       "      <td>1</td>\n",
       "      <td>True</td>\n",
       "      <td>False</td>\n",
       "    </tr>\n",
       "  </tbody>\n",
       "</table>\n",
       "</div>"
      ],
      "text/plain": [
       "          Order ID Order Date  Ship Date  Lead Time (days)  On-time Delivery  \\\n",
       "0   CA-2012-124891 2012-07-31 2012-07-31                 0              True   \n",
       "1    IN-2013-77878 2013-02-05 2013-02-07                 2              True   \n",
       "2    IN-2013-71249 2013-10-17 2013-10-18                 1              True   \n",
       "3  ES-2013-1579342 2013-01-28 2013-01-30                 2              True   \n",
       "4     SG-2013-4320 2013-11-05 2013-11-06                 1              True   \n",
       "\n",
       "   Returned  \n",
       "0     False  \n",
       "1      True  \n",
       "2     False  \n",
       "3     False  \n",
       "4     False  "
      ]
     },
     "execution_count": 45,
     "metadata": {},
     "output_type": "execute_result"
    }
   ],
   "source": [
    "# Section 5: Clean & Transform Global Superstore Orders\n",
    "\n",
    "orders_df['Order Date'] = pd.to_datetime(orders_df['Order Date'], errors='coerce')\n",
    "orders_df['Ship Date'] = pd.to_datetime(orders_df['Ship Date'], errors='coerce')\n",
    "\n",
    "\n",
    "# Drop rows with missing dates\n",
    "\n",
    "orders_df.dropna(subset=['Order Date', 'Ship Date'], inplace=True)\n",
    "\n",
    "\n",
    "# Calculate Lead Time\n",
    "\n",
    "orders_df['Lead Time (days)'] = (orders_df['Ship Date'] - orders_df['Order Date']).dt.days\n",
    "\n",
    "\n",
    "# Simulate On-Time Delivery (lead time ≤ 5 days)\n",
    "\n",
    "orders_df['On-time Delivery'] = orders_df['Lead Time (days)'] <= 5\n",
    "\n",
    "\n",
    "# Mark Returns\n",
    "\n",
    "orders_df['Returned'] = orders_df['Order ID'].isin(returns_df['Order ID'])\n",
    "\n",
    "orders_df[['Order ID', 'Order Date', 'Ship Date', 'Lead Time (days)', 'On-time Delivery', 'Returned']].head()\n"
   ]
  },
  {
   "cell_type": "markdown",
   "id": "ba3846e2",
   "metadata": {},
   "source": [
    "# Metrics Calculation"
   ]
  },
  {
   "cell_type": "code",
   "execution_count": 46,
   "id": "7ea84be1",
   "metadata": {},
   "outputs": [
    {
     "name": "stdout",
     "output_type": "stream",
     "text": [
      " Fill Rate: 94.05%\n",
      " On-Time Delivery Rate: 81.84%\n"
     ]
    }
   ],
   "source": [
    "\n",
    "# Fill Rate (Orders not returned)\n",
    "\n",
    "fill_rate = orders_df[~orders_df['Returned']].shape[0] / orders_df.shape[0]\n",
    "\n",
    "\n",
    "# On-Time Delivery Rate\n",
    "\n",
    "on_time_delivery_rate = orders_df['On-time Delivery'].mean()\n",
    "\n",
    "\n",
    "print(f\" Fill Rate: {fill_rate:.2%}\")\n",
    "print(f\" On-Time Delivery Rate: {on_time_delivery_rate:.2%}\")\n",
    "\n",
    "\n"
   ]
  },
  {
   "cell_type": "code",
   "execution_count": 47,
   "id": "af9f62c0",
   "metadata": {},
   "outputs": [
    {
     "name": "stdout",
     "output_type": "stream",
     "text": [
      " Average Inventory (Top 5):\n",
      "product_name\n",
      "Pierced Owl Rose Gold Plated Stainless Steel Double                             354.766667\n",
      "Fjallraven - Foldsack No. 1 Backpack, Fits 15 Laptops                           340.966667\n",
      "Rain Jacket Women Windbreaker Striped Climbing Raincoats                        324.900000\n",
      "Mens Casual Slim Fit                                                            311.766667\n",
      "Silicon Power 256GB SSD 3D NAND A55 SLC Cache Performance Boost SATA III 2.5    302.066667\n",
      "Name: inventory_level, dtype: float64\n"
     ]
    }
   ],
   "source": [
    "# Inventory Summary: average per product\n",
    "\n",
    "avg_inventory = inventory_df.groupby('product_name')['inventory_level'].mean().sort_values(ascending=False)\n",
    "\n",
    "print(\" Average Inventory (Top 5):\")\n",
    "\n",
    "print(avg_inventory.head())"
   ]
  },
  {
   "cell_type": "markdown",
   "id": "c656d091",
   "metadata": {},
   "source": [
    "# Saved the clean Data "
   ]
  },
  {
   "cell_type": "code",
   "execution_count": 48,
   "id": "527ceae3",
   "metadata": {},
   "outputs": [
    {
     "name": "stdout",
     "output_type": "stream",
     "text": [
      "Data saved locally as CSV files.\n"
     ]
    }
   ],
   "source": [
    "\n",
    "orders_df.to_csv(\"clean_orders.csv\", index=False)\n",
    "inventory_df.to_csv(\"simulated_inventory.csv\", index=False)\n",
    "products_df.to_csv(\"products.csv\", index=False)\n",
    "\n",
    "print(\"Data saved locally as CSV files.\")\n"
   ]
  },
  {
   "cell_type": "markdown",
   "id": "0e7442df",
   "metadata": {},
   "source": [
    "# Connecting Python to Bigquery "
   ]
  },
  {
   "cell_type": "code",
   "execution_count": 49,
   "id": "fd85bcdb",
   "metadata": {},
   "outputs": [
    {
     "name": "stdout",
     "output_type": "stream",
     "text": [
      "Connected to BigQuery as: supply-chain-data-467804\n"
     ]
    }
   ],
   "source": [
    "\n",
    "key_path = \"supply-chain-data-467804-0aad25463359.json\"\n",
    "project_id = \"supply-chain-data-467804\"      \n",
    "dataset_id = \"supply_chain\"          \n",
    "\n",
    "# Authenticate\n",
    "credentials = service_account.Credentials.from_service_account_file(key_path)\n",
    "client = bigquery.Client(credentials=credentials, project=project_id)\n",
    "\n",
    "print(\"Connected to BigQuery as:\", client.project)\n"
   ]
  },
  {
   "cell_type": "code",
   "execution_count": 50,
   "id": "76b384a7",
   "metadata": {},
   "outputs": [],
   "source": [
    "# Loading the CSV"
   ]
  },
  {
   "cell_type": "code",
   "execution_count": 51,
   "id": "9f8afb1f",
   "metadata": {},
   "outputs": [],
   "source": [
    "\n",
    "orders_df = pd.read_csv(\"clean_orders.csv\")\n",
    "inventory_df = pd.read_csv(\"simulated_inventory.csv\")\n",
    "products_df = pd.read_csv(\"products.csv\")"
   ]
  },
  {
   "cell_type": "code",
   "execution_count": 52,
   "id": "2c5ff8a5",
   "metadata": {},
   "outputs": [
    {
     "data": {
      "text/html": [
       "<div>\n",
       "<style scoped>\n",
       "    .dataframe tbody tr th:only-of-type {\n",
       "        vertical-align: middle;\n",
       "    }\n",
       "\n",
       "    .dataframe tbody tr th {\n",
       "        vertical-align: top;\n",
       "    }\n",
       "\n",
       "    .dataframe thead th {\n",
       "        text-align: right;\n",
       "    }\n",
       "</style>\n",
       "<table border=\"1\" class=\"dataframe\">\n",
       "  <thead>\n",
       "    <tr style=\"text-align: right;\">\n",
       "      <th></th>\n",
       "      <th>Row ID</th>\n",
       "      <th>Order ID</th>\n",
       "      <th>Order Date</th>\n",
       "      <th>Ship Date</th>\n",
       "      <th>Ship Mode</th>\n",
       "      <th>Customer ID</th>\n",
       "      <th>Customer Name</th>\n",
       "      <th>Segment</th>\n",
       "      <th>City</th>\n",
       "      <th>State</th>\n",
       "      <th>...</th>\n",
       "      <th>Product Name</th>\n",
       "      <th>Sales</th>\n",
       "      <th>Quantity</th>\n",
       "      <th>Discount</th>\n",
       "      <th>Profit</th>\n",
       "      <th>Shipping Cost</th>\n",
       "      <th>Order Priority</th>\n",
       "      <th>Lead Time (days)</th>\n",
       "      <th>On-time Delivery</th>\n",
       "      <th>Returned</th>\n",
       "    </tr>\n",
       "  </thead>\n",
       "  <tbody>\n",
       "    <tr>\n",
       "      <th>0</th>\n",
       "      <td>32298</td>\n",
       "      <td>CA-2012-124891</td>\n",
       "      <td>2012-07-31</td>\n",
       "      <td>2012-07-31</td>\n",
       "      <td>Same Day</td>\n",
       "      <td>RH-19495</td>\n",
       "      <td>Rick Hansen</td>\n",
       "      <td>Consumer</td>\n",
       "      <td>New York City</td>\n",
       "      <td>New York</td>\n",
       "      <td>...</td>\n",
       "      <td>Plantronics CS510 - Over-the-Head monaural Wir...</td>\n",
       "      <td>2309.650</td>\n",
       "      <td>7</td>\n",
       "      <td>0.0</td>\n",
       "      <td>762.1845</td>\n",
       "      <td>933.57</td>\n",
       "      <td>Critical</td>\n",
       "      <td>0</td>\n",
       "      <td>True</td>\n",
       "      <td>False</td>\n",
       "    </tr>\n",
       "    <tr>\n",
       "      <th>1</th>\n",
       "      <td>26341</td>\n",
       "      <td>IN-2013-77878</td>\n",
       "      <td>2013-02-05</td>\n",
       "      <td>2013-02-07</td>\n",
       "      <td>Second Class</td>\n",
       "      <td>JR-16210</td>\n",
       "      <td>Justin Ritter</td>\n",
       "      <td>Corporate</td>\n",
       "      <td>Wollongong</td>\n",
       "      <td>New South Wales</td>\n",
       "      <td>...</td>\n",
       "      <td>Novimex Executive Leather Armchair, Black</td>\n",
       "      <td>3709.395</td>\n",
       "      <td>9</td>\n",
       "      <td>0.1</td>\n",
       "      <td>-288.7650</td>\n",
       "      <td>923.63</td>\n",
       "      <td>Critical</td>\n",
       "      <td>2</td>\n",
       "      <td>True</td>\n",
       "      <td>True</td>\n",
       "    </tr>\n",
       "    <tr>\n",
       "      <th>2</th>\n",
       "      <td>25330</td>\n",
       "      <td>IN-2013-71249</td>\n",
       "      <td>2013-10-17</td>\n",
       "      <td>2013-10-18</td>\n",
       "      <td>First Class</td>\n",
       "      <td>CR-12730</td>\n",
       "      <td>Craig Reiter</td>\n",
       "      <td>Consumer</td>\n",
       "      <td>Brisbane</td>\n",
       "      <td>Queensland</td>\n",
       "      <td>...</td>\n",
       "      <td>Nokia Smart Phone, with Caller ID</td>\n",
       "      <td>5175.171</td>\n",
       "      <td>9</td>\n",
       "      <td>0.1</td>\n",
       "      <td>919.9710</td>\n",
       "      <td>915.49</td>\n",
       "      <td>Medium</td>\n",
       "      <td>1</td>\n",
       "      <td>True</td>\n",
       "      <td>False</td>\n",
       "    </tr>\n",
       "    <tr>\n",
       "      <th>3</th>\n",
       "      <td>13524</td>\n",
       "      <td>ES-2013-1579342</td>\n",
       "      <td>2013-01-28</td>\n",
       "      <td>2013-01-30</td>\n",
       "      <td>First Class</td>\n",
       "      <td>KM-16375</td>\n",
       "      <td>Katherine Murray</td>\n",
       "      <td>Home Office</td>\n",
       "      <td>Berlin</td>\n",
       "      <td>Berlin</td>\n",
       "      <td>...</td>\n",
       "      <td>Motorola Smart Phone, Cordless</td>\n",
       "      <td>2892.510</td>\n",
       "      <td>5</td>\n",
       "      <td>0.1</td>\n",
       "      <td>-96.5400</td>\n",
       "      <td>910.16</td>\n",
       "      <td>Medium</td>\n",
       "      <td>2</td>\n",
       "      <td>True</td>\n",
       "      <td>False</td>\n",
       "    </tr>\n",
       "    <tr>\n",
       "      <th>4</th>\n",
       "      <td>47221</td>\n",
       "      <td>SG-2013-4320</td>\n",
       "      <td>2013-11-05</td>\n",
       "      <td>2013-11-06</td>\n",
       "      <td>Same Day</td>\n",
       "      <td>RH-9495</td>\n",
       "      <td>Rick Hansen</td>\n",
       "      <td>Consumer</td>\n",
       "      <td>Dakar</td>\n",
       "      <td>Dakar</td>\n",
       "      <td>...</td>\n",
       "      <td>Sharp Wireless Fax, High-Speed</td>\n",
       "      <td>2832.960</td>\n",
       "      <td>8</td>\n",
       "      <td>0.0</td>\n",
       "      <td>311.5200</td>\n",
       "      <td>903.04</td>\n",
       "      <td>Critical</td>\n",
       "      <td>1</td>\n",
       "      <td>True</td>\n",
       "      <td>False</td>\n",
       "    </tr>\n",
       "  </tbody>\n",
       "</table>\n",
       "<p>5 rows × 27 columns</p>\n",
       "</div>"
      ],
      "text/plain": [
       "   Row ID         Order ID  Order Date   Ship Date     Ship Mode Customer ID  \\\n",
       "0   32298   CA-2012-124891  2012-07-31  2012-07-31      Same Day    RH-19495   \n",
       "1   26341    IN-2013-77878  2013-02-05  2013-02-07  Second Class    JR-16210   \n",
       "2   25330    IN-2013-71249  2013-10-17  2013-10-18   First Class    CR-12730   \n",
       "3   13524  ES-2013-1579342  2013-01-28  2013-01-30   First Class    KM-16375   \n",
       "4   47221     SG-2013-4320  2013-11-05  2013-11-06      Same Day     RH-9495   \n",
       "\n",
       "      Customer Name      Segment           City            State  ...  \\\n",
       "0       Rick Hansen     Consumer  New York City         New York  ...   \n",
       "1     Justin Ritter    Corporate     Wollongong  New South Wales  ...   \n",
       "2      Craig Reiter     Consumer       Brisbane       Queensland  ...   \n",
       "3  Katherine Murray  Home Office         Berlin           Berlin  ...   \n",
       "4       Rick Hansen     Consumer          Dakar            Dakar  ...   \n",
       "\n",
       "                                        Product Name     Sales Quantity  \\\n",
       "0  Plantronics CS510 - Over-the-Head monaural Wir...  2309.650        7   \n",
       "1          Novimex Executive Leather Armchair, Black  3709.395        9   \n",
       "2                  Nokia Smart Phone, with Caller ID  5175.171        9   \n",
       "3                     Motorola Smart Phone, Cordless  2892.510        5   \n",
       "4                     Sharp Wireless Fax, High-Speed  2832.960        8   \n",
       "\n",
       "  Discount    Profit Shipping Cost Order Priority Lead Time (days)  \\\n",
       "0      0.0  762.1845        933.57       Critical                0   \n",
       "1      0.1 -288.7650        923.63       Critical                2   \n",
       "2      0.1  919.9710        915.49         Medium                1   \n",
       "3      0.1  -96.5400        910.16         Medium                2   \n",
       "4      0.0  311.5200        903.04       Critical                1   \n",
       "\n",
       "   On-time Delivery  Returned  \n",
       "0              True     False  \n",
       "1              True      True  \n",
       "2              True     False  \n",
       "3              True     False  \n",
       "4              True     False  \n",
       "\n",
       "[5 rows x 27 columns]"
      ]
     },
     "execution_count": 52,
     "metadata": {},
     "output_type": "execute_result"
    }
   ],
   "source": [
    "orders_df.head()"
   ]
  },
  {
   "cell_type": "code",
   "execution_count": 53,
   "id": "15d3443f",
   "metadata": {},
   "outputs": [],
   "source": [
    "# Changing the columns name in a correct format to upload in Bigquery"
   ]
  },
  {
   "cell_type": "code",
   "execution_count": 54,
   "id": "8fc15b1b",
   "metadata": {},
   "outputs": [],
   "source": [
    "def clean_column_names(df):\n",
    "    df.columns = (\n",
    "        df.columns.str.strip()\n",
    "                  .str.lower()\n",
    "                  .str.replace(r\"[^\\w]+\", \"_\", regex=True)\n",
    "                  .str.replace(r\"_+\", \"_\", regex=True)\n",
    "                  .str.strip(\"_\")\n",
    "    )\n",
    "    return df\n"
   ]
  },
  {
   "cell_type": "code",
   "execution_count": 55,
   "id": "c809806e",
   "metadata": {},
   "outputs": [],
   "source": [
    "# Clean column names\n",
    "\n",
    "orders_df = clean_column_names(orders_df)\n",
    "inventory_df = clean_column_names(inventory_df)\n",
    "products_df = clean_column_names(products_df)"
   ]
  },
  {
   "cell_type": "code",
   "execution_count": 56,
   "id": "85317e4b",
   "metadata": {},
   "outputs": [
    {
     "data": {
      "text/html": [
       "<div>\n",
       "<style scoped>\n",
       "    .dataframe tbody tr th:only-of-type {\n",
       "        vertical-align: middle;\n",
       "    }\n",
       "\n",
       "    .dataframe tbody tr th {\n",
       "        vertical-align: top;\n",
       "    }\n",
       "\n",
       "    .dataframe thead th {\n",
       "        text-align: right;\n",
       "    }\n",
       "</style>\n",
       "<table border=\"1\" class=\"dataframe\">\n",
       "  <thead>\n",
       "    <tr style=\"text-align: right;\">\n",
       "      <th></th>\n",
       "      <th>row_id</th>\n",
       "      <th>order_id</th>\n",
       "      <th>order_date</th>\n",
       "      <th>ship_date</th>\n",
       "      <th>ship_mode</th>\n",
       "      <th>customer_id</th>\n",
       "      <th>customer_name</th>\n",
       "      <th>segment</th>\n",
       "      <th>city</th>\n",
       "      <th>state</th>\n",
       "      <th>...</th>\n",
       "      <th>product_name</th>\n",
       "      <th>sales</th>\n",
       "      <th>quantity</th>\n",
       "      <th>discount</th>\n",
       "      <th>profit</th>\n",
       "      <th>shipping_cost</th>\n",
       "      <th>order_priority</th>\n",
       "      <th>lead_time_days</th>\n",
       "      <th>on_time_delivery</th>\n",
       "      <th>returned</th>\n",
       "    </tr>\n",
       "  </thead>\n",
       "  <tbody>\n",
       "    <tr>\n",
       "      <th>0</th>\n",
       "      <td>32298</td>\n",
       "      <td>CA-2012-124891</td>\n",
       "      <td>2012-07-31</td>\n",
       "      <td>2012-07-31</td>\n",
       "      <td>Same Day</td>\n",
       "      <td>RH-19495</td>\n",
       "      <td>Rick Hansen</td>\n",
       "      <td>Consumer</td>\n",
       "      <td>New York City</td>\n",
       "      <td>New York</td>\n",
       "      <td>...</td>\n",
       "      <td>Plantronics CS510 - Over-the-Head monaural Wir...</td>\n",
       "      <td>2309.650</td>\n",
       "      <td>7</td>\n",
       "      <td>0.0</td>\n",
       "      <td>762.1845</td>\n",
       "      <td>933.57</td>\n",
       "      <td>Critical</td>\n",
       "      <td>0</td>\n",
       "      <td>True</td>\n",
       "      <td>False</td>\n",
       "    </tr>\n",
       "    <tr>\n",
       "      <th>1</th>\n",
       "      <td>26341</td>\n",
       "      <td>IN-2013-77878</td>\n",
       "      <td>2013-02-05</td>\n",
       "      <td>2013-02-07</td>\n",
       "      <td>Second Class</td>\n",
       "      <td>JR-16210</td>\n",
       "      <td>Justin Ritter</td>\n",
       "      <td>Corporate</td>\n",
       "      <td>Wollongong</td>\n",
       "      <td>New South Wales</td>\n",
       "      <td>...</td>\n",
       "      <td>Novimex Executive Leather Armchair, Black</td>\n",
       "      <td>3709.395</td>\n",
       "      <td>9</td>\n",
       "      <td>0.1</td>\n",
       "      <td>-288.7650</td>\n",
       "      <td>923.63</td>\n",
       "      <td>Critical</td>\n",
       "      <td>2</td>\n",
       "      <td>True</td>\n",
       "      <td>True</td>\n",
       "    </tr>\n",
       "    <tr>\n",
       "      <th>2</th>\n",
       "      <td>25330</td>\n",
       "      <td>IN-2013-71249</td>\n",
       "      <td>2013-10-17</td>\n",
       "      <td>2013-10-18</td>\n",
       "      <td>First Class</td>\n",
       "      <td>CR-12730</td>\n",
       "      <td>Craig Reiter</td>\n",
       "      <td>Consumer</td>\n",
       "      <td>Brisbane</td>\n",
       "      <td>Queensland</td>\n",
       "      <td>...</td>\n",
       "      <td>Nokia Smart Phone, with Caller ID</td>\n",
       "      <td>5175.171</td>\n",
       "      <td>9</td>\n",
       "      <td>0.1</td>\n",
       "      <td>919.9710</td>\n",
       "      <td>915.49</td>\n",
       "      <td>Medium</td>\n",
       "      <td>1</td>\n",
       "      <td>True</td>\n",
       "      <td>False</td>\n",
       "    </tr>\n",
       "    <tr>\n",
       "      <th>3</th>\n",
       "      <td>13524</td>\n",
       "      <td>ES-2013-1579342</td>\n",
       "      <td>2013-01-28</td>\n",
       "      <td>2013-01-30</td>\n",
       "      <td>First Class</td>\n",
       "      <td>KM-16375</td>\n",
       "      <td>Katherine Murray</td>\n",
       "      <td>Home Office</td>\n",
       "      <td>Berlin</td>\n",
       "      <td>Berlin</td>\n",
       "      <td>...</td>\n",
       "      <td>Motorola Smart Phone, Cordless</td>\n",
       "      <td>2892.510</td>\n",
       "      <td>5</td>\n",
       "      <td>0.1</td>\n",
       "      <td>-96.5400</td>\n",
       "      <td>910.16</td>\n",
       "      <td>Medium</td>\n",
       "      <td>2</td>\n",
       "      <td>True</td>\n",
       "      <td>False</td>\n",
       "    </tr>\n",
       "    <tr>\n",
       "      <th>4</th>\n",
       "      <td>47221</td>\n",
       "      <td>SG-2013-4320</td>\n",
       "      <td>2013-11-05</td>\n",
       "      <td>2013-11-06</td>\n",
       "      <td>Same Day</td>\n",
       "      <td>RH-9495</td>\n",
       "      <td>Rick Hansen</td>\n",
       "      <td>Consumer</td>\n",
       "      <td>Dakar</td>\n",
       "      <td>Dakar</td>\n",
       "      <td>...</td>\n",
       "      <td>Sharp Wireless Fax, High-Speed</td>\n",
       "      <td>2832.960</td>\n",
       "      <td>8</td>\n",
       "      <td>0.0</td>\n",
       "      <td>311.5200</td>\n",
       "      <td>903.04</td>\n",
       "      <td>Critical</td>\n",
       "      <td>1</td>\n",
       "      <td>True</td>\n",
       "      <td>False</td>\n",
       "    </tr>\n",
       "  </tbody>\n",
       "</table>\n",
       "<p>5 rows × 27 columns</p>\n",
       "</div>"
      ],
      "text/plain": [
       "   row_id         order_id  order_date   ship_date     ship_mode customer_id  \\\n",
       "0   32298   CA-2012-124891  2012-07-31  2012-07-31      Same Day    RH-19495   \n",
       "1   26341    IN-2013-77878  2013-02-05  2013-02-07  Second Class    JR-16210   \n",
       "2   25330    IN-2013-71249  2013-10-17  2013-10-18   First Class    CR-12730   \n",
       "3   13524  ES-2013-1579342  2013-01-28  2013-01-30   First Class    KM-16375   \n",
       "4   47221     SG-2013-4320  2013-11-05  2013-11-06      Same Day     RH-9495   \n",
       "\n",
       "      customer_name      segment           city            state  ...  \\\n",
       "0       Rick Hansen     Consumer  New York City         New York  ...   \n",
       "1     Justin Ritter    Corporate     Wollongong  New South Wales  ...   \n",
       "2      Craig Reiter     Consumer       Brisbane       Queensland  ...   \n",
       "3  Katherine Murray  Home Office         Berlin           Berlin  ...   \n",
       "4       Rick Hansen     Consumer          Dakar            Dakar  ...   \n",
       "\n",
       "                                        product_name     sales quantity  \\\n",
       "0  Plantronics CS510 - Over-the-Head monaural Wir...  2309.650        7   \n",
       "1          Novimex Executive Leather Armchair, Black  3709.395        9   \n",
       "2                  Nokia Smart Phone, with Caller ID  5175.171        9   \n",
       "3                     Motorola Smart Phone, Cordless  2892.510        5   \n",
       "4                     Sharp Wireless Fax, High-Speed  2832.960        8   \n",
       "\n",
       "  discount    profit shipping_cost order_priority lead_time_days  \\\n",
       "0      0.0  762.1845        933.57       Critical              0   \n",
       "1      0.1 -288.7650        923.63       Critical              2   \n",
       "2      0.1  919.9710        915.49         Medium              1   \n",
       "3      0.1  -96.5400        910.16         Medium              2   \n",
       "4      0.0  311.5200        903.04       Critical              1   \n",
       "\n",
       "   on_time_delivery  returned  \n",
       "0              True     False  \n",
       "1              True      True  \n",
       "2              True     False  \n",
       "3              True     False  \n",
       "4              True     False  \n",
       "\n",
       "[5 rows x 27 columns]"
      ]
     },
     "execution_count": 56,
     "metadata": {},
     "output_type": "execute_result"
    }
   ],
   "source": [
    "orders_df.head()"
   ]
  },
  {
   "cell_type": "code",
   "execution_count": 57,
   "id": "182a148e",
   "metadata": {},
   "outputs": [
    {
     "data": {
      "text/plain": [
       "Index(['row_id', 'order_id', 'order_date', 'ship_date', 'ship_mode',\n",
       "       'customer_id', 'customer_name', 'segment', 'city', 'state', 'country',\n",
       "       'postal_code', 'market', 'region', 'product_id', 'category',\n",
       "       'sub_category', 'product_name', 'sales', 'quantity', 'discount',\n",
       "       'profit', 'shipping_cost', 'order_priority', 'lead_time_days',\n",
       "       'on_time_delivery', 'returned'],\n",
       "      dtype='object')"
      ]
     },
     "execution_count": 57,
     "metadata": {},
     "output_type": "execute_result"
    }
   ],
   "source": [
    "orders_df.keys()"
   ]
  },
  {
   "cell_type": "code",
   "execution_count": 58,
   "id": "cebb0ee9",
   "metadata": {},
   "outputs": [],
   "source": [
    "# Creating a function to upload the data in bigquery if the table is already there it will overwrite that"
   ]
  },
  {
   "cell_type": "code",
   "execution_count": 59,
   "id": "0f3fd774",
   "metadata": {},
   "outputs": [],
   "source": [
    "def upload_table(df, table_name, schema=None):\n",
    "    table_ref = f\"{project_id}.{dataset_id}.{table_name}\"\n",
    "    job = client.load_table_from_dataframe(\n",
    "        df, table_ref, job_config=bigquery.LoadJobConfig(schema=schema, write_disposition=\"WRITE_TRUNCATE\")\n",
    "    )\n",
    "    job.result()\n",
    "    print(f\" Uploaded: {table_name}\")"
   ]
  },
  {
   "cell_type": "markdown",
   "id": "fc25e155",
   "metadata": {},
   "source": [
    "# Create DIM table"
   ]
  },
  {
   "cell_type": "code",
   "execution_count": 60,
   "id": "571d01b9",
   "metadata": {},
   "outputs": [],
   "source": [
    "## dim_product\n",
    "\n",
    "products_df.rename(columns={\n",
    "    \"id\": \"product_id\",\n",
    "    \"title\": \"product_name\",\n",
    "    \"category\": \"inventory_category\"\n",
    "}, inplace=True)\n",
    "dim_product =products_df.drop_duplicates(subset=\"product_id\").copy()"
   ]
  },
  {
   "cell_type": "code",
   "execution_count": 61,
   "id": "9287fc64",
   "metadata": {},
   "outputs": [],
   "source": [
    "## dim_customer (from orders)\n",
    "\n",
    "dim_customer = orders_df[[\"customer_id\", \"customer_name\", \"segment\", \"region\", \"market\"]].drop_duplicates().copy()\n",
    "dim_customer.rename(columns={\n",
    "    \"Customer ID\": \"customer_id\",\n",
    "    \"Customer Name\": \"customer_name\",\n",
    "    \"Segment\": \"segment\",\n",
    "    \"Region\": \"region\",\n",
    "    \"Market\": \"market\"\n",
    "}, inplace=True)"
   ]
  },
  {
   "cell_type": "code",
   "execution_count": 62,
   "id": "e9ea3427",
   "metadata": {},
   "outputs": [],
   "source": [
    "## dim_time\n",
    "\n",
    "min_date = min(pd.to_datetime(orders_df[\"order_date\"].min()), pd.to_datetime(orders_df[\"ship_date\"].min()), pd.to_datetime(inventory_df[\"date\"].min()))\n",
    "max_date = max(pd.to_datetime(orders_df[\"order_date\"].max()), pd.to_datetime(orders_df[\"ship_date\"].max()), pd.to_datetime(inventory_df[\"date\"].max()))\n",
    "dates = pd.date_range(min_date, max_date)\n",
    "dim_time = pd.DataFrame({\"date\": dates})\n",
    "dim_time[\"year\"] = dim_time[\"date\"].dt.year\n",
    "dim_time[\"month\"] = dim_time[\"date\"].dt.month_name()\n",
    "dim_time[\"quarter\"] = dim_time[\"date\"].dt.quarter\n",
    "dim_time[\"day\"] = dim_time[\"date\"].dt.day\n",
    "dim_time[\"weekday\"] = dim_time[\"date\"].dt.day_name()\n",
    "dim_time[\"week\"] = dim_time[\"date\"].dt.isocalendar().week"
   ]
  },
  {
   "cell_type": "markdown",
   "id": "4b9b0b58",
   "metadata": {},
   "source": [
    "# Create FACT tables"
   ]
  },
  {
   "cell_type": "code",
   "execution_count": 63,
   "id": "b419a6b1",
   "metadata": {},
   "outputs": [],
   "source": [
    "## fact_orders\n",
    "\n",
    "fact_orders = orders_df.copy()\n",
    "fact_orders.rename(columns={\n",
    "    \"Order ID\": \"order_id\",\n",
    "    \"Order Date\": \"order_date\",\n",
    "    \"Ship Date\": \"ship_date\",\n",
    "    \"Customer ID\": \"customer_id\",\n",
    "    \"Product ID\": \"product_id\",\n",
    "    \"Sales\": \"sales\",\n",
    "    \"Quantity\": \"quantity\",\n",
    "    \"Discount\": \"discount\",\n",
    "    \"Profit\": \"profit\",\n",
    "    \"Returned\": \"returned_flag\",\n",
    "    \"On-time Delivery\": \"on_time_delivery\",\n",
    "    \"Lead Time (days)\": \"lead_time_days\"\n",
    "}, inplace=True)\n"
   ]
  },
  {
   "cell_type": "code",
   "execution_count": 64,
   "id": "d56a3b3c",
   "metadata": {},
   "outputs": [],
   "source": [
    "## fact_inventory\n",
    "\n",
    "fact_inventory = inventory_df.copy()\n",
    "fact_inventory.rename(columns={\n",
    "    \"id\": \"product_id\"\n",
    "}, inplace=True)\n"
   ]
  },
  {
   "cell_type": "markdown",
   "id": "cc323c58",
   "metadata": {},
   "source": [
    "# Upload to BigQuery"
   ]
  },
  {
   "cell_type": "code",
   "execution_count": 65,
   "id": "8709ce4f",
   "metadata": {},
   "outputs": [
    {
     "name": "stdout",
     "output_type": "stream",
     "text": [
      " Uploaded: dim_product\n",
      " Uploaded: dim_customer\n",
      " Uploaded: dim_time\n",
      " Uploaded: fact_orders\n",
      " Uploaded: fact_inventory\n",
      "\n",
      " All tables uploaded to BigQuery\n"
     ]
    }
   ],
   "source": [
    "\n",
    "upload_table(dim_product, \"dim_product\")\n",
    "upload_table(dim_customer, \"dim_customer\")\n",
    "upload_table(dim_time, \"dim_time\")\n",
    "upload_table(fact_orders, \"fact_orders\")\n",
    "upload_table(fact_inventory, \"fact_inventory\")\n",
    "\n",
    "print(\"\\n All tables uploaded to BigQuery\")\n"
   ]
  },
  {
   "cell_type": "code",
   "execution_count": null,
   "id": "d1690071",
   "metadata": {},
   "outputs": [],
   "source": []
  },
  {
   "cell_type": "code",
   "execution_count": 67,
   "id": "3d86d019",
   "metadata": {},
   "outputs": [
    {
     "data": {
      "text/html": [
       "<div>\n",
       "<style scoped>\n",
       "    .dataframe tbody tr th:only-of-type {\n",
       "        vertical-align: middle;\n",
       "    }\n",
       "\n",
       "    .dataframe tbody tr th {\n",
       "        vertical-align: top;\n",
       "    }\n",
       "\n",
       "    .dataframe thead th {\n",
       "        text-align: right;\n",
       "    }\n",
       "</style>\n",
       "<table border=\"1\" class=\"dataframe\">\n",
       "  <thead>\n",
       "    <tr style=\"text-align: right;\">\n",
       "      <th></th>\n",
       "      <th>row_id</th>\n",
       "      <th>order_id</th>\n",
       "      <th>order_date</th>\n",
       "      <th>ship_date</th>\n",
       "      <th>ship_mode</th>\n",
       "      <th>customer_id</th>\n",
       "      <th>customer_name</th>\n",
       "      <th>segment</th>\n",
       "      <th>city</th>\n",
       "      <th>state</th>\n",
       "      <th>...</th>\n",
       "      <th>product_name</th>\n",
       "      <th>sales</th>\n",
       "      <th>quantity</th>\n",
       "      <th>discount</th>\n",
       "      <th>profit</th>\n",
       "      <th>shipping_cost</th>\n",
       "      <th>order_priority</th>\n",
       "      <th>lead_time_days</th>\n",
       "      <th>on_time_delivery</th>\n",
       "      <th>returned</th>\n",
       "    </tr>\n",
       "  </thead>\n",
       "  <tbody>\n",
       "    <tr>\n",
       "      <th>0</th>\n",
       "      <td>32298</td>\n",
       "      <td>CA-2012-124891</td>\n",
       "      <td>2012-07-31</td>\n",
       "      <td>2012-07-31</td>\n",
       "      <td>Same Day</td>\n",
       "      <td>RH-19495</td>\n",
       "      <td>Rick Hansen</td>\n",
       "      <td>Consumer</td>\n",
       "      <td>New York City</td>\n",
       "      <td>New York</td>\n",
       "      <td>...</td>\n",
       "      <td>Plantronics CS510 - Over-the-Head monaural Wir...</td>\n",
       "      <td>2309.650</td>\n",
       "      <td>7</td>\n",
       "      <td>0.0</td>\n",
       "      <td>762.1845</td>\n",
       "      <td>933.570</td>\n",
       "      <td>Critical</td>\n",
       "      <td>0</td>\n",
       "      <td>True</td>\n",
       "      <td>False</td>\n",
       "    </tr>\n",
       "    <tr>\n",
       "      <th>1</th>\n",
       "      <td>26341</td>\n",
       "      <td>IN-2013-77878</td>\n",
       "      <td>2013-02-05</td>\n",
       "      <td>2013-02-07</td>\n",
       "      <td>Second Class</td>\n",
       "      <td>JR-16210</td>\n",
       "      <td>Justin Ritter</td>\n",
       "      <td>Corporate</td>\n",
       "      <td>Wollongong</td>\n",
       "      <td>New South Wales</td>\n",
       "      <td>...</td>\n",
       "      <td>Novimex Executive Leather Armchair, Black</td>\n",
       "      <td>3709.395</td>\n",
       "      <td>9</td>\n",
       "      <td>0.1</td>\n",
       "      <td>-288.7650</td>\n",
       "      <td>923.630</td>\n",
       "      <td>Critical</td>\n",
       "      <td>2</td>\n",
       "      <td>True</td>\n",
       "      <td>True</td>\n",
       "    </tr>\n",
       "    <tr>\n",
       "      <th>2</th>\n",
       "      <td>25330</td>\n",
       "      <td>IN-2013-71249</td>\n",
       "      <td>2013-10-17</td>\n",
       "      <td>2013-10-18</td>\n",
       "      <td>First Class</td>\n",
       "      <td>CR-12730</td>\n",
       "      <td>Craig Reiter</td>\n",
       "      <td>Consumer</td>\n",
       "      <td>Brisbane</td>\n",
       "      <td>Queensland</td>\n",
       "      <td>...</td>\n",
       "      <td>Nokia Smart Phone, with Caller ID</td>\n",
       "      <td>5175.171</td>\n",
       "      <td>9</td>\n",
       "      <td>0.1</td>\n",
       "      <td>919.9710</td>\n",
       "      <td>915.490</td>\n",
       "      <td>Medium</td>\n",
       "      <td>1</td>\n",
       "      <td>True</td>\n",
       "      <td>False</td>\n",
       "    </tr>\n",
       "    <tr>\n",
       "      <th>3</th>\n",
       "      <td>13524</td>\n",
       "      <td>ES-2013-1579342</td>\n",
       "      <td>2013-01-28</td>\n",
       "      <td>2013-01-30</td>\n",
       "      <td>First Class</td>\n",
       "      <td>KM-16375</td>\n",
       "      <td>Katherine Murray</td>\n",
       "      <td>Home Office</td>\n",
       "      <td>Berlin</td>\n",
       "      <td>Berlin</td>\n",
       "      <td>...</td>\n",
       "      <td>Motorola Smart Phone, Cordless</td>\n",
       "      <td>2892.510</td>\n",
       "      <td>5</td>\n",
       "      <td>0.1</td>\n",
       "      <td>-96.5400</td>\n",
       "      <td>910.160</td>\n",
       "      <td>Medium</td>\n",
       "      <td>2</td>\n",
       "      <td>True</td>\n",
       "      <td>False</td>\n",
       "    </tr>\n",
       "    <tr>\n",
       "      <th>4</th>\n",
       "      <td>47221</td>\n",
       "      <td>SG-2013-4320</td>\n",
       "      <td>2013-11-05</td>\n",
       "      <td>2013-11-06</td>\n",
       "      <td>Same Day</td>\n",
       "      <td>RH-9495</td>\n",
       "      <td>Rick Hansen</td>\n",
       "      <td>Consumer</td>\n",
       "      <td>Dakar</td>\n",
       "      <td>Dakar</td>\n",
       "      <td>...</td>\n",
       "      <td>Sharp Wireless Fax, High-Speed</td>\n",
       "      <td>2832.960</td>\n",
       "      <td>8</td>\n",
       "      <td>0.0</td>\n",
       "      <td>311.5200</td>\n",
       "      <td>903.040</td>\n",
       "      <td>Critical</td>\n",
       "      <td>1</td>\n",
       "      <td>True</td>\n",
       "      <td>False</td>\n",
       "    </tr>\n",
       "    <tr>\n",
       "      <th>...</th>\n",
       "      <td>...</td>\n",
       "      <td>...</td>\n",
       "      <td>...</td>\n",
       "      <td>...</td>\n",
       "      <td>...</td>\n",
       "      <td>...</td>\n",
       "      <td>...</td>\n",
       "      <td>...</td>\n",
       "      <td>...</td>\n",
       "      <td>...</td>\n",
       "      <td>...</td>\n",
       "      <td>...</td>\n",
       "      <td>...</td>\n",
       "      <td>...</td>\n",
       "      <td>...</td>\n",
       "      <td>...</td>\n",
       "      <td>...</td>\n",
       "      <td>...</td>\n",
       "      <td>...</td>\n",
       "      <td>...</td>\n",
       "      <td>...</td>\n",
       "    </tr>\n",
       "    <tr>\n",
       "      <th>51285</th>\n",
       "      <td>29002</td>\n",
       "      <td>IN-2014-62366</td>\n",
       "      <td>2014-06-19</td>\n",
       "      <td>2014-06-19</td>\n",
       "      <td>Same Day</td>\n",
       "      <td>KE-16420</td>\n",
       "      <td>Katrina Edelman</td>\n",
       "      <td>Corporate</td>\n",
       "      <td>Kure</td>\n",
       "      <td>Hiroshima</td>\n",
       "      <td>...</td>\n",
       "      <td>Advantus Thumb Tacks, 12 Pack</td>\n",
       "      <td>65.100</td>\n",
       "      <td>5</td>\n",
       "      <td>0.0</td>\n",
       "      <td>4.5000</td>\n",
       "      <td>0.010</td>\n",
       "      <td>Medium</td>\n",
       "      <td>0</td>\n",
       "      <td>True</td>\n",
       "      <td>True</td>\n",
       "    </tr>\n",
       "    <tr>\n",
       "      <th>51286</th>\n",
       "      <td>35398</td>\n",
       "      <td>US-2014-102288</td>\n",
       "      <td>2014-06-20</td>\n",
       "      <td>2014-06-24</td>\n",
       "      <td>Standard Class</td>\n",
       "      <td>ZC-21910</td>\n",
       "      <td>Zuschuss Carroll</td>\n",
       "      <td>Consumer</td>\n",
       "      <td>Houston</td>\n",
       "      <td>Texas</td>\n",
       "      <td>...</td>\n",
       "      <td>Hoover Replacement Belt for Commercial Guardsm...</td>\n",
       "      <td>0.444</td>\n",
       "      <td>1</td>\n",
       "      <td>0.8</td>\n",
       "      <td>-1.1100</td>\n",
       "      <td>0.010</td>\n",
       "      <td>Medium</td>\n",
       "      <td>4</td>\n",
       "      <td>True</td>\n",
       "      <td>False</td>\n",
       "    </tr>\n",
       "    <tr>\n",
       "      <th>51287</th>\n",
       "      <td>40470</td>\n",
       "      <td>US-2013-155768</td>\n",
       "      <td>2013-12-02</td>\n",
       "      <td>2013-12-02</td>\n",
       "      <td>Same Day</td>\n",
       "      <td>LB-16795</td>\n",
       "      <td>Laurel Beltran</td>\n",
       "      <td>Home Office</td>\n",
       "      <td>Oxnard</td>\n",
       "      <td>California</td>\n",
       "      <td>...</td>\n",
       "      <td>#10- 4 1/8\" x 9 1/2\" Security-Tint Envelopes</td>\n",
       "      <td>22.920</td>\n",
       "      <td>3</td>\n",
       "      <td>0.0</td>\n",
       "      <td>11.2308</td>\n",
       "      <td>0.010</td>\n",
       "      <td>High</td>\n",
       "      <td>0</td>\n",
       "      <td>True</td>\n",
       "      <td>False</td>\n",
       "    </tr>\n",
       "    <tr>\n",
       "      <th>51288</th>\n",
       "      <td>9596</td>\n",
       "      <td>MX-2012-140767</td>\n",
       "      <td>2012-02-18</td>\n",
       "      <td>2012-02-22</td>\n",
       "      <td>Standard Class</td>\n",
       "      <td>RB-19795</td>\n",
       "      <td>Ross Baird</td>\n",
       "      <td>Home Office</td>\n",
       "      <td>Valinhos</td>\n",
       "      <td>São Paulo</td>\n",
       "      <td>...</td>\n",
       "      <td>Acco Index Tab, Economy</td>\n",
       "      <td>13.440</td>\n",
       "      <td>2</td>\n",
       "      <td>0.0</td>\n",
       "      <td>2.4000</td>\n",
       "      <td>0.003</td>\n",
       "      <td>Medium</td>\n",
       "      <td>4</td>\n",
       "      <td>True</td>\n",
       "      <td>False</td>\n",
       "    </tr>\n",
       "    <tr>\n",
       "      <th>51289</th>\n",
       "      <td>6147</td>\n",
       "      <td>MX-2012-134460</td>\n",
       "      <td>2012-05-22</td>\n",
       "      <td>2012-05-26</td>\n",
       "      <td>Second Class</td>\n",
       "      <td>MC-18100</td>\n",
       "      <td>Mick Crebagga</td>\n",
       "      <td>Consumer</td>\n",
       "      <td>Tipitapa</td>\n",
       "      <td>Managua</td>\n",
       "      <td>...</td>\n",
       "      <td>Eaton Computer Printout Paper, 8.5 x 11</td>\n",
       "      <td>61.380</td>\n",
       "      <td>3</td>\n",
       "      <td>0.0</td>\n",
       "      <td>1.8000</td>\n",
       "      <td>0.002</td>\n",
       "      <td>High</td>\n",
       "      <td>4</td>\n",
       "      <td>True</td>\n",
       "      <td>False</td>\n",
       "    </tr>\n",
       "  </tbody>\n",
       "</table>\n",
       "<p>51290 rows × 27 columns</p>\n",
       "</div>"
      ],
      "text/plain": [
       "       row_id         order_id  order_date   ship_date       ship_mode  \\\n",
       "0       32298   CA-2012-124891  2012-07-31  2012-07-31        Same Day   \n",
       "1       26341    IN-2013-77878  2013-02-05  2013-02-07    Second Class   \n",
       "2       25330    IN-2013-71249  2013-10-17  2013-10-18     First Class   \n",
       "3       13524  ES-2013-1579342  2013-01-28  2013-01-30     First Class   \n",
       "4       47221     SG-2013-4320  2013-11-05  2013-11-06        Same Day   \n",
       "...       ...              ...         ...         ...             ...   \n",
       "51285   29002    IN-2014-62366  2014-06-19  2014-06-19        Same Day   \n",
       "51286   35398   US-2014-102288  2014-06-20  2014-06-24  Standard Class   \n",
       "51287   40470   US-2013-155768  2013-12-02  2013-12-02        Same Day   \n",
       "51288    9596   MX-2012-140767  2012-02-18  2012-02-22  Standard Class   \n",
       "51289    6147   MX-2012-134460  2012-05-22  2012-05-26    Second Class   \n",
       "\n",
       "      customer_id     customer_name      segment           city  \\\n",
       "0        RH-19495       Rick Hansen     Consumer  New York City   \n",
       "1        JR-16210     Justin Ritter    Corporate     Wollongong   \n",
       "2        CR-12730      Craig Reiter     Consumer       Brisbane   \n",
       "3        KM-16375  Katherine Murray  Home Office         Berlin   \n",
       "4         RH-9495       Rick Hansen     Consumer          Dakar   \n",
       "...           ...               ...          ...            ...   \n",
       "51285    KE-16420   Katrina Edelman    Corporate           Kure   \n",
       "51286    ZC-21910  Zuschuss Carroll     Consumer        Houston   \n",
       "51287    LB-16795    Laurel Beltran  Home Office         Oxnard   \n",
       "51288    RB-19795        Ross Baird  Home Office       Valinhos   \n",
       "51289    MC-18100     Mick Crebagga     Consumer       Tipitapa   \n",
       "\n",
       "                 state  ...  \\\n",
       "0             New York  ...   \n",
       "1      New South Wales  ...   \n",
       "2           Queensland  ...   \n",
       "3               Berlin  ...   \n",
       "4                Dakar  ...   \n",
       "...                ...  ...   \n",
       "51285        Hiroshima  ...   \n",
       "51286            Texas  ...   \n",
       "51287       California  ...   \n",
       "51288        São Paulo  ...   \n",
       "51289          Managua  ...   \n",
       "\n",
       "                                            product_name     sales quantity  \\\n",
       "0      Plantronics CS510 - Over-the-Head monaural Wir...  2309.650        7   \n",
       "1              Novimex Executive Leather Armchair, Black  3709.395        9   \n",
       "2                      Nokia Smart Phone, with Caller ID  5175.171        9   \n",
       "3                         Motorola Smart Phone, Cordless  2892.510        5   \n",
       "4                         Sharp Wireless Fax, High-Speed  2832.960        8   \n",
       "...                                                  ...       ...      ...   \n",
       "51285                      Advantus Thumb Tacks, 12 Pack    65.100        5   \n",
       "51286  Hoover Replacement Belt for Commercial Guardsm...     0.444        1   \n",
       "51287       #10- 4 1/8\" x 9 1/2\" Security-Tint Envelopes    22.920        3   \n",
       "51288                            Acco Index Tab, Economy    13.440        2   \n",
       "51289            Eaton Computer Printout Paper, 8.5 x 11    61.380        3   \n",
       "\n",
       "      discount    profit shipping_cost order_priority lead_time_days  \\\n",
       "0          0.0  762.1845       933.570       Critical              0   \n",
       "1          0.1 -288.7650       923.630       Critical              2   \n",
       "2          0.1  919.9710       915.490         Medium              1   \n",
       "3          0.1  -96.5400       910.160         Medium              2   \n",
       "4          0.0  311.5200       903.040       Critical              1   \n",
       "...        ...       ...           ...            ...            ...   \n",
       "51285      0.0    4.5000         0.010         Medium              0   \n",
       "51286      0.8   -1.1100         0.010         Medium              4   \n",
       "51287      0.0   11.2308         0.010           High              0   \n",
       "51288      0.0    2.4000         0.003         Medium              4   \n",
       "51289      0.0    1.8000         0.002           High              4   \n",
       "\n",
       "       on_time_delivery  returned  \n",
       "0                  True     False  \n",
       "1                  True      True  \n",
       "2                  True     False  \n",
       "3                  True     False  \n",
       "4                  True     False  \n",
       "...                 ...       ...  \n",
       "51285              True      True  \n",
       "51286              True     False  \n",
       "51287              True     False  \n",
       "51288              True     False  \n",
       "51289              True     False  \n",
       "\n",
       "[51290 rows x 27 columns]"
      ]
     },
     "execution_count": 67,
     "metadata": {},
     "output_type": "execute_result"
    }
   ],
   "source": [
    "orders_df"
   ]
  },
  {
   "cell_type": "code",
   "execution_count": null,
   "id": "807d7b80",
   "metadata": {},
   "outputs": [],
   "source": []
  },
  {
   "cell_type": "code",
   "execution_count": null,
   "id": "80c0e061",
   "metadata": {},
   "outputs": [],
   "source": []
  },
  {
   "cell_type": "code",
   "execution_count": null,
   "id": "9fba8efe",
   "metadata": {},
   "outputs": [],
   "source": []
  },
  {
   "cell_type": "code",
   "execution_count": null,
   "id": "ab99e3a6",
   "metadata": {},
   "outputs": [],
   "source": []
  },
  {
   "cell_type": "code",
   "execution_count": null,
   "id": "dcd41c78",
   "metadata": {},
   "outputs": [],
   "source": []
  },
  {
   "cell_type": "code",
   "execution_count": null,
   "id": "2fc99388",
   "metadata": {},
   "outputs": [],
   "source": []
  },
  {
   "cell_type": "code",
   "execution_count": null,
   "id": "23a236ff",
   "metadata": {},
   "outputs": [],
   "source": []
  },
  {
   "cell_type": "code",
   "execution_count": null,
   "id": "f6003793",
   "metadata": {},
   "outputs": [],
   "source": []
  },
  {
   "cell_type": "code",
   "execution_count": null,
   "id": "e991daa5",
   "metadata": {},
   "outputs": [],
   "source": []
  },
  {
   "cell_type": "code",
   "execution_count": null,
   "id": "646192bb",
   "metadata": {},
   "outputs": [],
   "source": []
  }
 ],
 "metadata": {
  "kernelspec": {
   "display_name": "Python 3 (ipykernel)",
   "language": "python",
   "name": "python3"
  },
  "language_info": {
   "codemirror_mode": {
    "name": "ipython",
    "version": 3
   },
   "file_extension": ".py",
   "mimetype": "text/x-python",
   "name": "python",
   "nbconvert_exporter": "python",
   "pygments_lexer": "ipython3",
   "version": "3.10.9"
  }
 },
 "nbformat": 4,
 "nbformat_minor": 5
}
