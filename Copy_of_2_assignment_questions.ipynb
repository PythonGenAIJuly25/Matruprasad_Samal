{
  "cells": [
    {
      "cell_type": "markdown",
      "source": [
        "# Module 2: Control Flow Assignments\n",
        "## Lesson 2.1: Conditional Statements"
      ],
      "metadata": {
        "id": "t_EDGnqdYJSX"
      },
      "id": "t_EDGnqdYJSX"
    },
    {
      "cell_type": "markdown",
      "source": [
        "### Assignment 1: Simple if Statement\n",
        "\n",
        "Write a program that asks the user to input a number and prints whether the number is positive."
      ],
      "metadata": {
        "id": "nc4uyzeOX_Ua"
      },
      "id": "nc4uyzeOX_Ua"
    },
    {
      "cell_type": "code",
      "source": [
        "# your code here\n",
        "\n",
        "num = int(input(\"Enter the number : \"))\n",
        "\n",
        "if num > 0:\n",
        "  print(\"The number is positive\")"
      ],
      "metadata": {
        "id": "1f71SE04YAzG",
        "outputId": "43f4bc1d-9cdb-447f-de38-b3f42af0a25c",
        "colab": {
          "base_uri": "https://localhost:8080/"
        }
      },
      "id": "1f71SE04YAzG",
      "execution_count": null,
      "outputs": [
        {
          "output_type": "stream",
          "name": "stdout",
          "text": [
            "Enter the number : 5\n",
            "The number is positive\n"
          ]
        }
      ]
    },
    {
      "cell_type": "markdown",
      "source": [
        "### Assignment 2: if-else Statement\n",
        "\n",
        "Write a program that asks the user to input a number and prints whether the number is positive or negative."
      ],
      "metadata": {
        "id": "6MIuZhEAYNTS"
      },
      "id": "6MIuZhEAYNTS"
    },
    {
      "cell_type": "code",
      "source": [
        "# your code here\n",
        "\n",
        "num = int(input(\"Enter the number : \"))\n",
        "\n",
        "if num > 0:\n",
        "  print(\"The number is positive\")\n",
        "\n",
        "else:\n",
        "  print(\"The number is negative\")"
      ],
      "metadata": {
        "id": "mu870IIRYRSu",
        "outputId": "4542b55c-fef7-46f2-da54-127cb659800d",
        "colab": {
          "base_uri": "https://localhost:8080/"
        }
      },
      "id": "mu870IIRYRSu",
      "execution_count": null,
      "outputs": [
        {
          "output_type": "stream",
          "name": "stdout",
          "text": [
            "Enter the number : 5\n",
            "The number is positive\n"
          ]
        }
      ]
    },
    {
      "cell_type": "markdown",
      "source": [
        "\n",
        "### Assignment 3: if-elif-else Statement\n",
        "\n",
        "Write a program that asks the user to input a number and prints whether the number is positive, negative, or zero."
      ],
      "metadata": {
        "id": "GGg6HwU8v9YB"
      },
      "id": "GGg6HwU8v9YB"
    },
    {
      "cell_type": "code",
      "source": [
        "num = int(input(\"Enter the number :\"))\n",
        "\n",
        "if num > 0:\n",
        "  print(\"The number is positive\")\n",
        "\n",
        "elif num < 0:\n",
        "  print(\"The number is negative\")\n",
        "\n",
        "else:\n",
        "  print(\"The number is zero\")"
      ],
      "metadata": {
        "id": "K4GG_qJsv_W0",
        "outputId": "5e37a29c-9e84-4a38-ae34-875629646ff4",
        "colab": {
          "base_uri": "https://localhost:8080/"
        }
      },
      "id": "K4GG_qJsv_W0",
      "execution_count": null,
      "outputs": [
        {
          "output_type": "stream",
          "name": "stdout",
          "text": [
            "Enter the number :0\n",
            "The number is zero\n"
          ]
        }
      ]
    },
    {
      "cell_type": "markdown",
      "source": [
        "\n",
        "### Assignment 4: Nested if Statement\n",
        "\n",
        "Write a program that asks the user to input a number and prints whether the number is positive and even, positive and odd, or negative."
      ],
      "metadata": {
        "id": "z3XcRCKpweex"
      },
      "id": "z3XcRCKpweex"
    },
    {
      "cell_type": "code",
      "source": [
        "num = int(input(\"Enter the number : \"))\n",
        "\n",
        "if num > 0:\n",
        "  if num % 2 == 0:\n",
        "    print(\"The number is positive and even\")\n",
        "  else:\n",
        "    print(\"The number is positive and odd\")\n",
        "\n",
        "else:\n",
        "  print(\"The number is negative\")"
      ],
      "metadata": {
        "id": "AarxrG2UwgIf",
        "outputId": "8eadbca5-e616-4acf-a5b0-8ff14b321919",
        "colab": {
          "base_uri": "https://localhost:8080/"
        }
      },
      "id": "AarxrG2UwgIf",
      "execution_count": null,
      "outputs": [
        {
          "output_type": "stream",
          "name": "stdout",
          "text": [
            "Enter the number : 9\n",
            "The number is positive and odd\n"
          ]
        }
      ]
    },
    {
      "cell_type": "markdown",
      "source": [
        "\n",
        "## Lesson 2.2: Loops\n",
        "### Assignment 5: for Loop\n",
        "\n",
        "Write a program that prints all the numbers from 1 to 10 using a for loop."
      ],
      "metadata": {
        "id": "0is3cqbfw8Tg"
      },
      "id": "0is3cqbfw8Tg"
    },
    {
      "cell_type": "code",
      "source": [
        "for i in range(1,11):\n",
        "  print(i)"
      ],
      "metadata": {
        "id": "L669a2zsw-JI",
        "outputId": "d8301bca-aae2-4827-dd4b-a3d632a8e283",
        "colab": {
          "base_uri": "https://localhost:8080/"
        }
      },
      "id": "L669a2zsw-JI",
      "execution_count": null,
      "outputs": [
        {
          "output_type": "stream",
          "name": "stdout",
          "text": [
            "1\n",
            "2\n",
            "3\n",
            "4\n",
            "5\n",
            "6\n",
            "7\n",
            "8\n",
            "9\n",
            "10\n"
          ]
        }
      ]
    },
    {
      "cell_type": "markdown",
      "source": [
        "\n",
        "### Assignment 6: while Loop\n",
        "\n",
        "Write a program that prints all the numbers from 1 to 10 using a while loop."
      ],
      "metadata": {
        "id": "vVJGzeGKxE83"
      },
      "id": "vVJGzeGKxE83"
    },
    {
      "cell_type": "code",
      "source": [
        "i = 1\n",
        "while i < 11:\n",
        "  print(i)\n",
        "  i+=1"
      ],
      "metadata": {
        "id": "7wzw4MZuxIrE",
        "outputId": "b2dbcde4-f865-49d3-efb0-38842f5a5337",
        "colab": {
          "base_uri": "https://localhost:8080/"
        }
      },
      "id": "7wzw4MZuxIrE",
      "execution_count": null,
      "outputs": [
        {
          "output_type": "stream",
          "name": "stdout",
          "text": [
            "1\n",
            "2\n",
            "3\n",
            "4\n",
            "5\n",
            "6\n",
            "7\n",
            "8\n",
            "9\n",
            "10\n"
          ]
        }
      ]
    },
    {
      "cell_type": "markdown",
      "source": [
        "### Assignment 7: Nested Loops\n",
        "\n",
        "Write a program that prints a 5x5 grid of asterisks (*) using nested loops."
      ],
      "metadata": {
        "id": "wTv_2liUxVdY"
      },
      "id": "wTv_2liUxVdY"
    },
    {
      "cell_type": "code",
      "source": [
        "row =  5\n",
        "\n",
        "for i in range(row):\n",
        "  for j in range(row):\n",
        "    print(\"*\",end = \" \")\n",
        "  print(\" \")\n"
      ],
      "metadata": {
        "id": "RFquIGSwxau5",
        "outputId": "80eb79dd-c875-4250-e9d8-9134f3ba8479",
        "colab": {
          "base_uri": "https://localhost:8080/"
        }
      },
      "id": "RFquIGSwxau5",
      "execution_count": null,
      "outputs": [
        {
          "output_type": "stream",
          "name": "stdout",
          "text": [
            "* * * * *  \n",
            "* * * * *  \n",
            "* * * * *  \n",
            "* * * * *  \n",
            "* * * * *  \n"
          ]
        }
      ]
    },
    {
      "cell_type": "markdown",
      "source": [
        "### Assignment 8: break Statement\n",
        "\n",
        "Write a program that asks the user to input numbers until they input 0. The program should print the sum of all the input numbers."
      ],
      "metadata": {
        "id": "NI8I_cnzyLJY"
      },
      "id": "NI8I_cnzyLJY"
    },
    {
      "cell_type": "code",
      "source": [
        "total = 0\n",
        "\n",
        "while True:\n",
        "  num = int(input(\"Enter the number : \"))\n",
        "\n",
        "  if num == 0:\n",
        "    break\n",
        "\n",
        "  else:\n",
        "    total+=num\n",
        "\n",
        "print(f\"The sum of all the numbers is {total}\")"
      ],
      "metadata": {
        "id": "UdOJLfzJyM-j",
        "outputId": "e38c8383-2e7c-415d-8e93-1d1c83140cc2",
        "colab": {
          "base_uri": "https://localhost:8080/"
        }
      },
      "id": "UdOJLfzJyM-j",
      "execution_count": null,
      "outputs": [
        {
          "output_type": "stream",
          "name": "stdout",
          "text": [
            "Enter the number : 5\n",
            "Enter the number : 5\n",
            "Enter the number : 0\n",
            "The sum of all the numbers is 10\n"
          ]
        }
      ]
    },
    {
      "cell_type": "markdown",
      "source": [
        "\n",
        "\n",
        "### Assignment 9: continue Statement\n",
        "\n",
        "Write a program that prints all the numbers from 1 to 10 except 5 using a for loop and continue statement."
      ],
      "metadata": {
        "id": "4IuRNNeHywN7"
      },
      "id": "4IuRNNeHywN7"
    },
    {
      "cell_type": "code",
      "source": [
        "for i in range(1,11):\n",
        "  if i == 5:\n",
        "    continue\n",
        "  print(i)"
      ],
      "metadata": {
        "id": "e5miba89yz0f",
        "outputId": "2ea3e6dd-5cf1-4203-aea1-3d76a9b9c5f1",
        "colab": {
          "base_uri": "https://localhost:8080/"
        }
      },
      "id": "e5miba89yz0f",
      "execution_count": null,
      "outputs": [
        {
          "output_type": "stream",
          "name": "stdout",
          "text": [
            "1\n",
            "2\n",
            "3\n",
            "4\n",
            "6\n",
            "7\n",
            "8\n",
            "9\n",
            "10\n"
          ]
        }
      ]
    },
    {
      "cell_type": "markdown",
      "source": [
        "### Assignment 10: pass Statement\n",
        "\n",
        "Write a program that defines an empty function using the pass statement."
      ],
      "metadata": {
        "id": "Nt5FbTG1zKq_"
      },
      "id": "Nt5FbTG1zKq_"
    },
    {
      "cell_type": "code",
      "source": [
        "def add(a,b):\n",
        "  pass"
      ],
      "metadata": {
        "id": "KuFZ_W8DzPZA"
      },
      "id": "KuFZ_W8DzPZA",
      "execution_count": null,
      "outputs": []
    },
    {
      "cell_type": "markdown",
      "source": [
        "\n",
        "### Assignment 11: Combining Loops and Conditionals\n",
        "\n",
        "Write a program that asks the user to input a number and prints all the even numbers from 1 to that number using a for loop."
      ],
      "metadata": {
        "id": "-av28vzzzTkW"
      },
      "id": "-av28vzzzTkW"
    },
    {
      "cell_type": "code",
      "source": [
        "num = int(input(\"Enter the number : \"))\n",
        "\n",
        "for i in range(1,num+1):\n",
        "  if i%2==0:\n",
        "    print(i)"
      ],
      "metadata": {
        "id": "LD6veRICzYUF",
        "outputId": "3a61bd77-fd62-43fd-a0ac-24ae8a487523",
        "colab": {
          "base_uri": "https://localhost:8080/"
        }
      },
      "id": "LD6veRICzYUF",
      "execution_count": null,
      "outputs": [
        {
          "output_type": "stream",
          "name": "stdout",
          "text": [
            "Enter the number : 10\n",
            "2\n",
            "4\n",
            "6\n",
            "8\n",
            "10\n"
          ]
        }
      ]
    },
    {
      "cell_type": "markdown",
      "source": [
        "### Assignment 12: Factorial Calculation\n",
        "\n",
        "Write a program that calculates the factorial of a number input by the user using a while loop."
      ],
      "metadata": {
        "id": "XTA_MkHTz1SP"
      },
      "id": "XTA_MkHTz1SP"
    },
    {
      "cell_type": "code",
      "source": [
        "num = int(input(\"Enter the number : \"))\n",
        "\n",
        "i = 1\n",
        "fact = 1\n",
        "\n",
        "while i <= num:\n",
        "  fact*=i\n",
        "  i+=1\n",
        "\n",
        "print(f\"The factorial of the {num} is {fact}\")\n"
      ],
      "metadata": {
        "id": "QXQuEgNQz5T7",
        "outputId": "484bf804-566d-4e4f-d545-4e9a268fbb61",
        "colab": {
          "base_uri": "https://localhost:8080/"
        }
      },
      "id": "QXQuEgNQz5T7",
      "execution_count": null,
      "outputs": [
        {
          "output_type": "stream",
          "name": "stdout",
          "text": [
            "Enter the number : 5\n",
            "The factorial of the 5 is 120\n"
          ]
        }
      ]
    },
    {
      "cell_type": "markdown",
      "source": [
        "\n",
        "\n",
        "### Assignment 13: Sum of Digits\n",
        "\n",
        "Write a program that calculates the sum of the digits of a number input by the user using a while loop."
      ],
      "metadata": {
        "id": "aYLIneCt1RsY"
      },
      "id": "aYLIneCt1RsY"
    },
    {
      "cell_type": "code",
      "source": [
        "num = int(input(\"Enter the number : \"))\n",
        "\n",
        "total = 0\n",
        "\n",
        "while num > 0:\n",
        "  digit = num % 10\n",
        "  total+=digit\n",
        "  num = num // 10\n",
        "\n",
        "print(f\"The sum of the digits is {total}\")"
      ],
      "metadata": {
        "id": "pFYXUXP51VbU",
        "outputId": "f45c2605-da15-41bf-e612-944a09572293",
        "colab": {
          "base_uri": "https://localhost:8080/"
        }
      },
      "id": "pFYXUXP51VbU",
      "execution_count": null,
      "outputs": [
        {
          "output_type": "stream",
          "name": "stdout",
          "text": [
            "Enter the number : 12345\n",
            "The sum of the digits is 15\n"
          ]
        }
      ]
    },
    {
      "cell_type": "markdown",
      "source": [
        "\n",
        "### Assignment 14: Prime Number Check\n",
        "\n",
        "Write a program that checks if a number input by the user is a prime number using a for loop."
      ],
      "metadata": {
        "id": "P2SO1cc-_Qem"
      },
      "id": "P2SO1cc-_Qem"
    },
    {
      "cell_type": "code",
      "source": [
        "num = int(input(\"Enter the number : \"))\n",
        "\n",
        "if num <=1:\n",
        "  print(f\"{num} is not a prime number\")\n",
        "\n",
        "else:\n",
        "  is_prime = True\n",
        "  for i in range(2,int(num**0.5)+1):\n",
        "    if num % i == 0:\n",
        "      is_prime = False\n",
        "      break\n",
        "\n",
        "  if is_prime:\n",
        "    print(f\"{num} is a prime number\")\n",
        "\n",
        "  else:\n",
        "    print(f\"{num} is not a prime number\")\n"
      ],
      "metadata": {
        "colab": {
          "base_uri": "https://localhost:8080/"
        },
        "id": "jHgTYDJm_U7-",
        "outputId": "1b374bc5-fc36-49a6-d1da-44404b4fb0ea"
      },
      "id": "jHgTYDJm_U7-",
      "execution_count": 7,
      "outputs": [
        {
          "output_type": "stream",
          "name": "stdout",
          "text": [
            "Enter the number : 6\n",
            "6 is not a prime number\n"
          ]
        }
      ]
    },
    {
      "cell_type": "markdown",
      "metadata": {
        "id": "ACxk4D0TXiq4"
      },
      "source": [
        "\n",
        "\n",
        "\n",
        "\n",
        "\n",
        "\n",
        "\n",
        "\n",
        "\n",
        "\n",
        "\n",
        "\n",
        "\n",
        "\n",
        "\n",
        "\n",
        "\n",
        "\n",
        "\n",
        "\n",
        "### Assignment 15: Fibonacci Sequence\n",
        "\n",
        "Write a program that prints the first n Fibonacci numbers, where n is input by the user."
      ],
      "id": "ACxk4D0TXiq4"
    },
    {
      "cell_type": "code",
      "execution_count": 14,
      "metadata": {
        "id": "vAUUndrFXiq8",
        "colab": {
          "base_uri": "https://localhost:8080/"
        },
        "outputId": "a213a16f-24c5-4be4-f771-112d5aa50158"
      },
      "outputs": [
        {
          "output_type": "stream",
          "name": "stdout",
          "text": [
            "Enter the number : 6\n",
            "0 1 1 2 3 5 "
          ]
        }
      ],
      "source": [
        "num = int(input(\"Enter the number : \"))\n",
        "\n",
        "a,b = 0,1\n",
        "\n",
        "for i in range(num):\n",
        "  print(a,end=\" \")\n",
        "  a,b = b,a+b\n",
        "\n",
        "\n",
        "\n",
        "\n"
      ],
      "id": "vAUUndrFXiq8"
    },
    {
      "cell_type": "code",
      "source": [],
      "metadata": {
        "id": "Jx8ahIudEtaa"
      },
      "id": "Jx8ahIudEtaa",
      "execution_count": null,
      "outputs": []
    }
  ],
  "metadata": {
    "kernelspec": {
      "display_name": "Python 3",
      "language": "python",
      "name": "python3"
    },
    "language_info": {
      "codemirror_mode": {
        "name": "ipython",
        "version": 3
      },
      "file_extension": ".py",
      "mimetype": "text/x-python",
      "name": "python",
      "nbconvert_exporter": "python",
      "pygments_lexer": "ipython3",
      "version": "3.9.7"
    },
    "colab": {
      "provenance": []
    }
  },
  "nbformat": 4,
  "nbformat_minor": 5
}