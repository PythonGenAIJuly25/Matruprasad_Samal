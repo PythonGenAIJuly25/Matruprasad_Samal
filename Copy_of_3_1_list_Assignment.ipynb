{
  "cells": [
    {
      "cell_type": "markdown",
      "source": [
        "# Module 3: Data Structures Assignments\n",
        "## Lesson 3.1: Lists"
      ],
      "metadata": {
        "id": "UFJqMcSaKJZm"
      },
      "id": "UFJqMcSaKJZm"
    },
    {
      "cell_type": "markdown",
      "source": [
        "### Assignment 1: Creating and Accessing Lists\n",
        "\n",
        "Create a list of the first 20 positive integers. Print the list."
      ],
      "metadata": {
        "id": "G6M4o832KPJz"
      },
      "id": "G6M4o832KPJz"
    },
    {
      "cell_type": "code",
      "source": [
        "num = list(range(1,21))\n",
        "print(num)"
      ],
      "metadata": {
        "colab": {
          "base_uri": "https://localhost:8080/"
        },
        "id": "QQBQSlpdKQun",
        "outputId": "aefd688d-41eb-485a-ddf2-d44e481e4bdc"
      },
      "id": "QQBQSlpdKQun",
      "execution_count": null,
      "outputs": [
        {
          "output_type": "stream",
          "name": "stdout",
          "text": [
            "[1, 2, 3, 4, 5, 6, 7, 8, 9, 10, 11, 12, 13, 14, 15, 16, 17, 18, 19, 20]\n"
          ]
        }
      ]
    },
    {
      "cell_type": "markdown",
      "source": [
        "### Assignment 2: Accessing List Elements\n",
        "\n",
        "Print the first, middle, and last elements of the list created in Assignment 1."
      ],
      "metadata": {
        "id": "sSzCXtJ1Kxvp"
      },
      "id": "sSzCXtJ1Kxvp"
    },
    {
      "cell_type": "code",
      "source": [
        "print(num[0])\n",
        "print(num[10])\n",
        "print(num[-1])"
      ],
      "metadata": {
        "colab": {
          "base_uri": "https://localhost:8080/"
        },
        "id": "kpx_i-YZK19f",
        "outputId": "29b48920-0a57-4633-a366-66513733a264"
      },
      "id": "kpx_i-YZK19f",
      "execution_count": null,
      "outputs": [
        {
          "output_type": "stream",
          "name": "stdout",
          "text": [
            "1\n",
            "11\n",
            "20\n"
          ]
        }
      ]
    },
    {
      "cell_type": "markdown",
      "source": [
        "### Assignment 3: List Slicing\n",
        "\n",
        "Print the first five elements, the last five elements, and the elements from index 5 to 15 of the list created in Assignment 1.\n",
        "\n"
      ],
      "metadata": {
        "id": "8aZfdJWSMAEp"
      },
      "id": "8aZfdJWSMAEp"
    },
    {
      "cell_type": "code",
      "source": [
        "print(num[:5])\n",
        "print(num[15:])\n",
        "print(num[5:15])"
      ],
      "metadata": {
        "colab": {
          "base_uri": "https://localhost:8080/"
        },
        "id": "mKWFyU4rMHW0",
        "outputId": "341e1432-dc2b-4b48-cfd0-a2092a242e67"
      },
      "id": "mKWFyU4rMHW0",
      "execution_count": null,
      "outputs": [
        {
          "output_type": "stream",
          "name": "stdout",
          "text": [
            "[1, 2, 3, 4, 5]\n",
            "[16, 17, 18, 19, 20]\n",
            "[6, 7, 8, 9, 10, 11, 12, 13, 14, 15]\n"
          ]
        }
      ]
    },
    {
      "cell_type": "markdown",
      "source": [
        "\n",
        "### Assignment 4: List Comprehensions\n",
        "\n",
        "Create a new list containing the squares of the first 10 positive integers using a list comprehension. Print the new list."
      ],
      "metadata": {
        "id": "Bz4jldMvMYtG"
      },
      "id": "Bz4jldMvMYtG"
    },
    {
      "cell_type": "code",
      "source": [
        "square = [ i*i for i in range(1,11)]\n",
        "print(square)"
      ],
      "metadata": {
        "colab": {
          "base_uri": "https://localhost:8080/"
        },
        "id": "_fEWJ9zPMd9D",
        "outputId": "e983b67d-e663-497d-8373-0555b6965265"
      },
      "id": "_fEWJ9zPMd9D",
      "execution_count": null,
      "outputs": [
        {
          "output_type": "stream",
          "name": "stdout",
          "text": [
            "[1, 4, 9, 16, 25, 36, 49, 64, 81, 100]\n"
          ]
        }
      ]
    },
    {
      "cell_type": "markdown",
      "source": [
        "### Assignment 5: Filtering Lists\n",
        "\n",
        "Create a new list containing only the even numbers from the list created in Assignment 1 using a list comprehension. Print the new list."
      ],
      "metadata": {
        "id": "Qk-U1dJVNCak"
      },
      "id": "Qk-U1dJVNCak"
    },
    {
      "cell_type": "code",
      "source": [
        "is_even = [ i  for i in num  if i % 2 == 0 ]\n",
        "print(is_even)"
      ],
      "metadata": {
        "colab": {
          "base_uri": "https://localhost:8080/"
        },
        "id": "dtTJ1acJNH1G",
        "outputId": "07ad7506-2370-45a0-9e10-9dbb74005d67"
      },
      "id": "dtTJ1acJNH1G",
      "execution_count": null,
      "outputs": [
        {
          "output_type": "stream",
          "name": "stdout",
          "text": [
            "[2, 4, 6, 8, 10, 12, 14, 16, 18, 20]\n"
          ]
        }
      ]
    },
    {
      "cell_type": "markdown",
      "source": [
        "### Assignment 6: List Methods\n",
        "\n",
        "Create a list of random numbers and sort it in ascending and descending order. Remove the duplicates from the list and print the modified list."
      ],
      "metadata": {
        "id": "Yr8dBrWIOKTJ"
      },
      "id": "Yr8dBrWIOKTJ"
    },
    {
      "cell_type": "code",
      "source": [
        "l = [1,5,7,7,8,2,4,5,1,3,4,5,6,5,6]\n",
        "l.sort()\n",
        "print(l)\n",
        "l.sort(reverse = True)\n",
        "print(l)\n",
        "c = list(set(l))\n",
        "print(c)"
      ],
      "metadata": {
        "colab": {
          "base_uri": "https://localhost:8080/"
        },
        "id": "7vKnguQlOOnH",
        "outputId": "7e20a184-e36d-4689-cb6b-63dea135938d"
      },
      "id": "7vKnguQlOOnH",
      "execution_count": null,
      "outputs": [
        {
          "output_type": "stream",
          "name": "stdout",
          "text": [
            "[1, 1, 2, 3, 4, 4, 5, 5, 5, 5, 6, 6, 7, 7, 8]\n",
            "[8, 7, 7, 6, 6, 5, 5, 5, 5, 4, 4, 3, 2, 1, 1]\n",
            "[1, 2, 3, 4, 5, 6, 7, 8]\n"
          ]
        }
      ]
    },
    {
      "cell_type": "markdown",
      "source": [
        "\n",
        "\n",
        "### Assignment 7: Nested Lists\n",
        "\n",
        "Create a nested list representing a 3x3 matrix and print the matrix. Access and print the element at the second row and third column."
      ],
      "metadata": {
        "id": "B9DQmbytPHRb"
      },
      "id": "B9DQmbytPHRb"
    },
    {
      "cell_type": "code",
      "source": [
        "l = [[1,2,3],[4,5,6],[6,7,8]]\n",
        "print(l)\n",
        "print(l[1][2])"
      ],
      "metadata": {
        "colab": {
          "base_uri": "https://localhost:8080/"
        },
        "id": "Jgn08moYPK_k",
        "outputId": "926d8e8e-d2cd-417a-b724-bc6d15c00649"
      },
      "id": "Jgn08moYPK_k",
      "execution_count": null,
      "outputs": [
        {
          "output_type": "stream",
          "name": "stdout",
          "text": [
            "[[1, 2, 3], [4, 5, 6], [6, 7, 8]]\n",
            "6\n"
          ]
        }
      ]
    },
    {
      "cell_type": "markdown",
      "source": [
        "\n",
        "### Assignment 8: List of Dictionaries\n",
        "\n",
        "Create a list of dictionaries where each dictionary represents a student with keys 'name' and 'score'. Sort the list of dictionaries by the 'score' in descending order and print the sorted list.\n"
      ],
      "metadata": {
        "id": "CiV1p8wnQG-E"
      },
      "id": "CiV1p8wnQG-E"
    },
    {
      "cell_type": "code",
      "source": [
        "score = [{\"name\":\"sai\",\"score\":85},{\"name\":\"Mathru\",\"score\":90},{\"name\":\"Shuvam\",\"score\":75},{\"name\":\"Nithu\",\"score\":70}]\n",
        "result = sorted(score,key=lambda x: x[\"score\"], reverse = True)\n",
        "print(result)"
      ],
      "metadata": {
        "colab": {
          "base_uri": "https://localhost:8080/"
        },
        "id": "6g-h_kWgQKxN",
        "outputId": "9d57951a-2e25-440c-c923-d4da0c559d5e"
      },
      "id": "6g-h_kWgQKxN",
      "execution_count": null,
      "outputs": [
        {
          "output_type": "stream",
          "name": "stdout",
          "text": [
            "[{'name': 'Mathru', 'score': 90}, {'name': 'sai', 'score': 85}, {'name': 'Shuvam', 'score': 75}, {'name': 'Nithu', 'score': 70}]\n"
          ]
        }
      ]
    },
    {
      "cell_type": "markdown",
      "source": [
        "\n",
        "\n",
        "### Assignment 9: Matrix Transposition\n",
        "\n",
        "Write a function that takes a 3x3 matrix (nested list) as input and returns its transpose. Print the original and transposed matrices."
      ],
      "metadata": {
        "id": "2rXl_NzGSvOT"
      },
      "id": "2rXl_NzGSvOT"
    },
    {
      "cell_type": "code",
      "source": [
        "def matrix(a):\n",
        "  transpose = []\n",
        "  for i in range(3):\n",
        "    row = []\n",
        "    for j in range(3):\n",
        "      row.append(a[j][i])\n",
        "\n",
        "    transpose.append(row)\n",
        "  return transpose\n",
        "\n",
        "\n",
        "l = [[1,2,3],[4,5,6],[6,7,8]]\n",
        "result = matrix(l)\n",
        "\n",
        "\n",
        "print(\"original matrix\")\n",
        "for i in l:\n",
        "  print(i)\n",
        "\n",
        "print(\"transpose matrix\")\n",
        "\n",
        "for j in result:\n",
        "  print(j)"
      ],
      "metadata": {
        "colab": {
          "base_uri": "https://localhost:8080/"
        },
        "id": "8eC6lDukSz3e",
        "outputId": "a57b4fcb-25b5-4f32-b181-3937bd472e9d"
      },
      "id": "8eC6lDukSz3e",
      "execution_count": null,
      "outputs": [
        {
          "output_type": "stream",
          "name": "stdout",
          "text": [
            "original matrix\n",
            "[1, 2, 3]\n",
            "[4, 5, 6]\n",
            "[6, 7, 8]\n",
            "transpose matrix\n",
            "[1, 4, 6]\n",
            "[2, 5, 7]\n",
            "[3, 6, 8]\n"
          ]
        }
      ]
    },
    {
      "cell_type": "markdown",
      "source": [
        "### Assignment 10: Flattening a Nested List\n",
        "\n",
        "Write a function that takes a nested list and flattens it into a single list. Print the original and flattened lists."
      ],
      "metadata": {
        "id": "zwbsHccgqdoh"
      },
      "id": "zwbsHccgqdoh"
    },
    {
      "cell_type": "code",
      "source": [
        "def flatten(a):\n",
        "    flatten = []\n",
        "    for i in a:\n",
        "      for j in i:\n",
        "        flatten.append(j)\n",
        "    return flatten\n",
        "\n",
        "l = [[1,2,3],[4,5,6],[6,7,8]]\n",
        "result = flatten(l)\n",
        "print(\"original matrix\")\n",
        "print(l)\n",
        "print(\"\\nflatten matrix\")\n",
        "result = flatten(l)\n",
        "print(result)\n"
      ],
      "metadata": {
        "colab": {
          "base_uri": "https://localhost:8080/"
        },
        "id": "FFXCYpKdqh3b",
        "outputId": "7861d638-966a-4610-e514-1093f4efe499"
      },
      "id": "FFXCYpKdqh3b",
      "execution_count": null,
      "outputs": [
        {
          "output_type": "stream",
          "name": "stdout",
          "text": [
            "original matrix\n",
            "[[1, 2, 3], [4, 5, 6], [6, 7, 8]]\n",
            "\n",
            "flatten matrix\n",
            "[1, 2, 3, 4, 5, 6, 6, 7, 8]\n"
          ]
        }
      ]
    },
    {
      "cell_type": "markdown",
      "source": [
        "### Assignment 11: List Manipulation\n",
        "\n",
        "Create a list of the first 10 positive integers. Remove the elements at indices 2, 4, and 6, and insert the element '99' at index 5. Print the modified list."
      ],
      "metadata": {
        "id": "ZuFa2STDuhlv"
      },
      "id": "ZuFa2STDuhlv"
    },
    {
      "cell_type": "code",
      "source": [
        "a = list(range(1,11))\n",
        "for i in [2,4,6]:\n",
        "  a.pop(i)\n",
        "a.insert(5,99)\n",
        "print(a)"
      ],
      "metadata": {
        "colab": {
          "base_uri": "https://localhost:8080/"
        },
        "id": "oXxtss6Dumjk",
        "outputId": "9ed380bf-f5a0-449a-f86f-6e2149f26cb9"
      },
      "id": "oXxtss6Dumjk",
      "execution_count": null,
      "outputs": [
        {
          "output_type": "stream",
          "name": "stdout",
          "text": [
            "[1, 2, 4, 5, 7, 99, 8, 10]\n"
          ]
        }
      ]
    },
    {
      "cell_type": "markdown",
      "source": [
        "### Assignment 12: List Zipping\n",
        "\n",
        "Create two lists of the same length. Use the `zip` function to combine these lists into a list of tuples and print the result."
      ],
      "metadata": {
        "id": "fKr8FojjyLpP"
      },
      "id": "fKr8FojjyLpP"
    },
    {
      "cell_type": "code",
      "source": [
        "c = [1,2,3,4]\n",
        "d = [5,6,7,8]\n",
        "\n",
        "result = tuple(zip(c,d))\n",
        "print(result)"
      ],
      "metadata": {
        "colab": {
          "base_uri": "https://localhost:8080/"
        },
        "id": "dnQXGyCsyP38",
        "outputId": "cb65dd71-efee-4142-94d9-e4b5328163a0"
      },
      "id": "dnQXGyCsyP38",
      "execution_count": null,
      "outputs": [
        {
          "output_type": "stream",
          "name": "stdout",
          "text": [
            "((1, 5), (2, 6), (3, 7), (4, 8))\n"
          ]
        }
      ]
    },
    {
      "cell_type": "markdown",
      "source": [
        "### Assignment 13: List Reversal\n",
        "\n",
        "Write a function that takes a list and returns a new list with the elements in reverse order. Print the original and reversed lists."
      ],
      "metadata": {
        "id": "bcoud7sgyjTn"
      },
      "id": "bcoud7sgyjTn"
    },
    {
      "cell_type": "code",
      "source": [
        "def reverse_list(l):\n",
        "  m = l.copy()\n",
        "  m.reverse()\n",
        "  return m\n",
        "\n",
        "m = [1,2,3,4,5]\n",
        "result = reverse_list(m)\n",
        "print(\"original list\")\n",
        "print(m)\n",
        "print(\"\\nreversed list\")\n",
        "print(result)\n"
      ],
      "metadata": {
        "colab": {
          "base_uri": "https://localhost:8080/"
        },
        "id": "BPcsHguGyqQu",
        "outputId": "2a84597c-734f-465c-b57d-aa2c1aeb8783"
      },
      "id": "BPcsHguGyqQu",
      "execution_count": null,
      "outputs": [
        {
          "output_type": "stream",
          "name": "stdout",
          "text": [
            "original list\n",
            "[1, 2, 3, 4, 5]\n",
            "\n",
            "reversed list\n",
            "[5, 4, 3, 2, 1]\n"
          ]
        }
      ]
    },
    {
      "cell_type": "markdown",
      "source": [
        "\n",
        "### Assignment 14: List Rotation\n",
        "\n",
        "Write a function that rotates a list by n positions. Print the original and rotated lists."
      ],
      "metadata": {
        "id": "i5VFgZ5v1Jt5"
      },
      "id": "i5VFgZ5v1Jt5"
    },
    {
      "cell_type": "code",
      "source": [
        "def rotate(lst,n):\n",
        "  return lst[n:] + lst[:n]\n",
        "\n",
        "original = [1,2,3,4,5]\n",
        "print(\"oginal list\")\n",
        "print(original)\n",
        "result = rotate(original,2)\n",
        "print(\"\\nrotated list\")\n",
        "print(result)"
      ],
      "metadata": {
        "colab": {
          "base_uri": "https://localhost:8080/"
        },
        "id": "TD6IdrjQ1JYs",
        "outputId": "69c5b58f-1090-4d53-913c-698561942988"
      },
      "id": "TD6IdrjQ1JYs",
      "execution_count": null,
      "outputs": [
        {
          "output_type": "stream",
          "name": "stdout",
          "text": [
            "oginal list\n",
            "[1, 2, 3, 4, 5]\n",
            "\n",
            "rotated list\n",
            "[3, 4, 5, 1, 2]\n"
          ]
        }
      ]
    },
    {
      "cell_type": "markdown",
      "metadata": {
        "id": "Yw9admqnKDgX"
      },
      "source": [
        "\n",
        "\n",
        "\n",
        "\n",
        "\n",
        "\n",
        "\n",
        "\n",
        "\n",
        "\n",
        "\n",
        "\n",
        "\n",
        "\n",
        "\n",
        "\n",
        "\n",
        "\n",
        "\n",
        "### Assignment 15: List Intersection\n",
        "\n",
        "Write a function that takes two lists and returns a new list containing only the elements that are present in both lists. Print the intersected list."
      ],
      "id": "Yw9admqnKDgX"
    },
    {
      "cell_type": "code",
      "execution_count": null,
      "metadata": {
        "colab": {
          "base_uri": "https://localhost:8080/"
        },
        "id": "4-sviPBVKDga",
        "outputId": "04f7dcf6-cf23-4e21-bc6f-4390c3bc04f5"
      },
      "outputs": [
        {
          "output_type": "stream",
          "name": "stdout",
          "text": [
            "[1, 2]\n"
          ]
        }
      ],
      "source": [
        "def concate(lst1,lst2):\n",
        "  c = set(lst1)\n",
        "  d = set(lst2)\n",
        "  result = c.intersection(d)\n",
        "  return list(result)\n",
        "\n",
        "l = [1,2,3,1,2]\n",
        "m = [1,2,4,5,6]\n",
        "result = concate(l,m)\n",
        "print(result)"
      ],
      "id": "4-sviPBVKDga"
    },
    {
      "cell_type": "code",
      "source": [],
      "metadata": {
        "id": "XUyqYRlGKKgc"
      },
      "id": "XUyqYRlGKKgc",
      "execution_count": null,
      "outputs": []
    }
  ],
  "metadata": {
    "kernelspec": {
      "display_name": "Python 3",
      "language": "python",
      "name": "python3"
    },
    "language_info": {
      "codemirror_mode": {
        "name": "ipython",
        "version": 3
      },
      "file_extension": ".py",
      "mimetype": "text/x-python",
      "name": "python",
      "nbconvert_exporter": "python",
      "pygments_lexer": "ipython3",
      "version": "3.9.7"
    },
    "colab": {
      "provenance": []
    }
  },
  "nbformat": 4,
  "nbformat_minor": 5
}